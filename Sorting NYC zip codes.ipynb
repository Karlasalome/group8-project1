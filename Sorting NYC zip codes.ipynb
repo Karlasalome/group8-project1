{
 "cells": [
  {
   "cell_type": "code",
   "execution_count": 19,
   "metadata": {},
   "outputs": [],
   "source": [
    "import pandas as pd\n"
   ]
  },
  {
   "cell_type": "code",
   "execution_count": 20,
   "metadata": {},
   "outputs": [],
   "source": [
    "# read in CSV containing  list of all NYC zip codes\n",
    "nyc_zipcodes_data = \"nyc_zip_codes_raw.csv\" \n",
    "\n",
    "# transfer into a dataframe\n",
    "nyc_zipcodes_df = pd.read_csv(nyc_zipcodes_data)\n"
   ]
  },
  {
   "cell_type": "code",
   "execution_count": 23,
   "metadata": {},
   "outputs": [],
   "source": [
    "# read in CSV containing cleaned list of all NY state zip codes\n",
    "clean_zipcodes_data = \"clean_operational_ny_zips.csv\" \n",
    "\n",
    "# transfer into a dataframe\n",
    "clean_ny_zipcodes_df = pd.read_csv(clean_zipcodes_data)\n",
    "\n",
    "# change data type to string\n",
    "clean_ny_zipcodes_df = clean_ny_zipcodes_df.astype({\"Zip Code\": str})\n",
    "\n",
    "# output zips to a list\n",
    "ny_zip_codes = clean_ny_zipcodes_df[\"Zip Code\"].tolist()\n"
   ]
  },
  {
   "cell_type": "code",
   "execution_count": 25,
   "metadata": {},
   "outputs": [],
   "source": [
    "# filter NYC zip list to only include those found in list of clean & operational NY zip codes\n",
    "\n",
    "clean_nyc_zicodes_df = nyc_zipcodes_df.loc[nyc_zipcodes_df['NYC_Zip_Codes'].isin(ny_zip_codes)]\n"
   ]
  },
  {
   "cell_type": "code",
   "execution_count": 26,
   "metadata": {},
   "outputs": [],
   "source": [
    "# output to a CSV file for use in Yelp API calls\n",
    "\n",
    "clean_nyc_zicodes_df .to_csv(\"clean_nyc_zips.csv\", \n",
    "                                      index=False, \n",
    "                                      header=True)"
   ]
  },
  {
   "cell_type": "code",
   "execution_count": null,
   "metadata": {},
   "outputs": [],
   "source": []
  }
 ],
 "metadata": {
  "kernelspec": {
   "display_name": "Python [conda env:PythonData] *",
   "language": "python",
   "name": "conda-env-PythonData-py"
  },
  "language_info": {
   "codemirror_mode": {
    "name": "ipython",
    "version": 3
   },
   "file_extension": ".py",
   "mimetype": "text/x-python",
   "name": "python",
   "nbconvert_exporter": "python",
   "pygments_lexer": "ipython3",
   "version": "3.6.8"
  }
 },
 "nbformat": 4,
 "nbformat_minor": 2
}
