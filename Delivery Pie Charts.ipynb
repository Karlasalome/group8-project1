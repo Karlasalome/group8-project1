{
 "cells": [
  {
   "cell_type": "code",
   "execution_count": 28,
   "metadata": {},
   "outputs": [],
   "source": [
    "import requests\n",
    "import json\n",
    "import numpy as np\n",
    "import pandas as pd \n",
    "import matplotlib.pyplot as plt\n",
    "from scipy import stats\n",
    "import seaborn as sns\n",
    "from Scott_keys import gkey"
   ]
  },
  {
   "cell_type": "code",
   "execution_count": 66,
   "metadata": {},
   "outputs": [
    {
     "data": {
      "text/html": [
       "<div>\n",
       "<style scoped>\n",
       "    .dataframe tbody tr th:only-of-type {\n",
       "        vertical-align: middle;\n",
       "    }\n",
       "\n",
       "    .dataframe tbody tr th {\n",
       "        vertical-align: top;\n",
       "    }\n",
       "\n",
       "    .dataframe thead th {\n",
       "        text-align: right;\n",
       "    }\n",
       "</style>\n",
       "<table border=\"1\" class=\"dataframe\">\n",
       "  <thead>\n",
       "    <tr style=\"text-align: right;\">\n",
       "      <th></th>\n",
       "      <th>Zip Code</th>\n",
       "      <th># Pizza/Chinese Restaurants</th>\n",
       "      <th># That Deliver</th>\n",
       "      <th>% That Deliver</th>\n",
       "      <th>% No Cars</th>\n",
       "    </tr>\n",
       "  </thead>\n",
       "  <tbody>\n",
       "    <tr>\n",
       "      <th>0</th>\n",
       "      <td>10001</td>\n",
       "      <td>50</td>\n",
       "      <td>35.0</td>\n",
       "      <td>0.700000</td>\n",
       "      <td>82.6</td>\n",
       "    </tr>\n",
       "    <tr>\n",
       "      <th>1</th>\n",
       "      <td>10002</td>\n",
       "      <td>160</td>\n",
       "      <td>54.0</td>\n",
       "      <td>0.337500</td>\n",
       "      <td>81.6</td>\n",
       "    </tr>\n",
       "    <tr>\n",
       "      <th>2</th>\n",
       "      <td>10003</td>\n",
       "      <td>89</td>\n",
       "      <td>62.0</td>\n",
       "      <td>0.696629</td>\n",
       "      <td>78.3</td>\n",
       "    </tr>\n",
       "    <tr>\n",
       "      <th>3</th>\n",
       "      <td>10004</td>\n",
       "      <td>20</td>\n",
       "      <td>12.0</td>\n",
       "      <td>0.600000</td>\n",
       "      <td>81.1</td>\n",
       "    </tr>\n",
       "    <tr>\n",
       "      <th>4</th>\n",
       "      <td>10005</td>\n",
       "      <td>6</td>\n",
       "      <td>4.0</td>\n",
       "      <td>0.666667</td>\n",
       "      <td>83.5</td>\n",
       "    </tr>\n",
       "  </tbody>\n",
       "</table>\n",
       "</div>"
      ],
      "text/plain": [
       "   Zip Code  # Pizza/Chinese Restaurants  # That Deliver  % That Deliver  \\\n",
       "0     10001                           50            35.0        0.700000   \n",
       "1     10002                          160            54.0        0.337500   \n",
       "2     10003                           89            62.0        0.696629   \n",
       "3     10004                           20            12.0        0.600000   \n",
       "4     10005                            6             4.0        0.666667   \n",
       "\n",
       "   % No Cars  \n",
       "0       82.6  \n",
       "1       81.6  \n",
       "2       78.3  \n",
       "3       81.1  \n",
       "4       83.5  "
      ]
     },
     "execution_count": 66,
     "metadata": {},
     "output_type": "execute_result"
    }
   ],
   "source": [
    "# import delivery csv\n",
    "delivery_data = pd.read_csv(\"delivery_dataframe_run.csv\")\n",
    "delivery_df = pd.DataFrame(delivery_data)\n",
    "delivery_df.head()"
   ]
  },
  {
   "cell_type": "code",
   "execution_count": 68,
   "metadata": {},
   "outputs": [
    {
     "data": {
      "text/html": [
       "<div>\n",
       "<style scoped>\n",
       "    .dataframe tbody tr th:only-of-type {\n",
       "        vertical-align: middle;\n",
       "    }\n",
       "\n",
       "    .dataframe tbody tr th {\n",
       "        vertical-align: top;\n",
       "    }\n",
       "\n",
       "    .dataframe thead th {\n",
       "        text-align: right;\n",
       "    }\n",
       "</style>\n",
       "<table border=\"1\" class=\"dataframe\">\n",
       "  <thead>\n",
       "    <tr style=\"text-align: right;\">\n",
       "      <th></th>\n",
       "      <th>Zip Code</th>\n",
       "      <th># Pizza/Chinese Restaurants</th>\n",
       "      <th># That Deliver</th>\n",
       "      <th>% That Deliver</th>\n",
       "      <th>% No Cars</th>\n",
       "    </tr>\n",
       "  </thead>\n",
       "  <tbody>\n",
       "    <tr>\n",
       "      <th>0</th>\n",
       "      <td>10001</td>\n",
       "      <td>50</td>\n",
       "      <td>35.0</td>\n",
       "      <td>70.0</td>\n",
       "      <td>82.6</td>\n",
       "    </tr>\n",
       "    <tr>\n",
       "      <th>1</th>\n",
       "      <td>10002</td>\n",
       "      <td>160</td>\n",
       "      <td>54.0</td>\n",
       "      <td>33.8</td>\n",
       "      <td>81.6</td>\n",
       "    </tr>\n",
       "    <tr>\n",
       "      <th>2</th>\n",
       "      <td>10003</td>\n",
       "      <td>89</td>\n",
       "      <td>62.0</td>\n",
       "      <td>69.7</td>\n",
       "      <td>78.3</td>\n",
       "    </tr>\n",
       "    <tr>\n",
       "      <th>3</th>\n",
       "      <td>10004</td>\n",
       "      <td>20</td>\n",
       "      <td>12.0</td>\n",
       "      <td>60.0</td>\n",
       "      <td>81.1</td>\n",
       "    </tr>\n",
       "    <tr>\n",
       "      <th>4</th>\n",
       "      <td>10005</td>\n",
       "      <td>6</td>\n",
       "      <td>4.0</td>\n",
       "      <td>66.7</td>\n",
       "      <td>83.5</td>\n",
       "    </tr>\n",
       "  </tbody>\n",
       "</table>\n",
       "</div>"
      ],
      "text/plain": [
       "   Zip Code  # Pizza/Chinese Restaurants  # That Deliver % That Deliver  \\\n",
       "0     10001                           50            35.0           70.0   \n",
       "1     10002                          160            54.0           33.8   \n",
       "2     10003                           89            62.0           69.7   \n",
       "3     10004                           20            12.0           60.0   \n",
       "4     10005                            6             4.0           66.7   \n",
       "\n",
       "  % No Cars  \n",
       "0      82.6  \n",
       "1      81.6  \n",
       "2      78.3  \n",
       "3      81.1  \n",
       "4      83.5  "
      ]
     },
     "execution_count": 68,
     "metadata": {},
     "output_type": "execute_result"
    }
   ],
   "source": [
    "# format percentage columns so they are the same\n",
    "delivery_df['% That Deliver']= delivery_df['% That Deliver']*100\n",
    "delivery_df['% That Deliver']= delivery_df['% That Deliver'].map('{:,.1f}'.format)\n",
    "delivery_df['% No Cars']= delivery_df['% No Cars'].map('{:,.1f}'.format)\n",
    "delivery_df.head()\n"
   ]
  },
  {
   "cell_type": "code",
   "execution_count": 74,
   "metadata": {},
   "outputs": [],
   "source": [
    "# double check dtypes to be sure we can run functions\n",
    "delivery_df.dtypes\n",
    "delivery_df[\"% That Deliver\"]= delivery_df[\"% That Deliver\"].astype(float)\n",
    "delivery_df[\"% No Cars\"]= delivery_df[\"% No Cars\"].astype(float)\n"
   ]
  },
  {
   "cell_type": "code",
   "execution_count": 75,
   "metadata": {},
   "outputs": [
    {
     "data": {
      "text/plain": [
       "Zip Code                       10815.107955\n",
       "# Pizza/Chinese Restaurants       27.551136\n",
       "# That Deliver                    14.988636\n",
       "% That Deliver                    54.009091\n",
       "% No Cars                         50.311932\n",
       "dtype: float64"
      ]
     },
     "execution_count": 75,
     "metadata": {},
     "output_type": "execute_result"
    }
   ],
   "source": [
    "# find the avg % delivery and avg % no cars\n",
    "delivery_df.mean()\n"
   ]
  },
  {
   "cell_type": "code",
   "execution_count": 76,
   "metadata": {},
   "outputs": [
    {
     "data": {
      "text/plain": [
       "Text(0.5, 1.0, 'NYC Restaurant Delivery')"
      ]
     },
     "execution_count": 76,
     "metadata": {},
     "output_type": "execute_result"
    },
    {
     "data": {
      "image/png": "[encoded data removed]",
      "text/plain": [
       "<Figure size 432x288 with 1 Axes>"
      ]
     },
     "metadata": {},
     "output_type": "display_data"
    }
   ],
   "source": [
    "# make a pie chart of the overall % of delivery restaurants in NYC\n",
    "\n",
    "labels= ['Delivery', 'No Delivery']\n",
    "x= [54,46]\n",
    "colors= ['#00CC99','#666666']\n",
    "\n",
    "plt.pie(x, labels=labels, colors=colors, startangle=255)\n",
    "plt.title(\"NYC Restaurant Delivery\",fontsize=16, fontweight=\"bold\")\n"
   ]
  },
  {
   "cell_type": "code",
   "execution_count": 77,
   "metadata": {},
   "outputs": [
    {
     "data": {
      "text/plain": [
       "<Figure size 432x288 with 0 Axes>"
      ]
     },
     "metadata": {},
     "output_type": "display_data"
    }
   ],
   "source": [
    "plt.savefig(\"Delivery_Pie.png\")"
   ]
  },
  {
   "cell_type": "code",
   "execution_count": 78,
   "metadata": {},
   "outputs": [
    {
     "data": {
      "text/plain": [
       "Text(0.5, 1.0, 'NYC HH Vehicle Ownership')"
      ]
     },
     "execution_count": 78,
     "metadata": {},
     "output_type": "execute_result"
    },
    {
     "data": {
      "image/png": "[encoded data removed]",
      "text/plain": [
       "<Figure size 432x288 with 1 Axes>"
      ]
     },
     "metadata": {},
     "output_type": "display_data"
    }
   ],
   "source": [
    "# make a pie chart of the overall % of NYC HH with no vehicles\n",
    "\n",
    "labels= ['Vehicles', 'No Vehicles']\n",
    "x= [49.7,50.3]\n",
    "colors= ['#666666','#00CC99']\n",
    "\n",
    "plt.pie(x, labels=labels, colors=colors, startangle=90)\n",
    "plt.title(\"NYC HH Vehicle Ownership\",fontsize=16, fontweight=\"bold\")\n"
   ]
  },
  {
   "cell_type": "code",
   "execution_count": 79,
   "metadata": {},
   "outputs": [
    {
     "data": {
      "text/plain": [
       "<Figure size 432x288 with 0 Axes>"
      ]
     },
     "metadata": {},
     "output_type": "display_data"
    }
   ],
   "source": [
    "plt.savefig(\"Vehicle_Pie.png\")"
   ]
  },
  {
   "cell_type": "code",
   "execution_count": 106,
   "metadata": {},
   "outputs": [
    {
     "data": {
      "image/png": "[encoded data removed]",
      "text/plain": [
       "<Figure size 1440x720 with 1 Axes>"
      ]
     },
     "metadata": {
      "needs_background": "light"
     },
     "output_type": "display_data"
    }
   ],
   "source": [
    "# bin the data into quadrants for easier visualization\n",
    "\n",
    "bins = 4\n",
    "group_names = [\"0%-25%\", \"26%-50%\", \"51%-75%\", \"76%-100%\"]\n",
    "delivery_df[\"% No Cars Quads\"] = pd.cut(delivery_df[\"% No Cars\"], bins, labels=group_names)\n",
    "\n",
    "# create a boxplot\n",
    "fig = delivery_df.boxplot(\"% That Deliver\", \n",
    "                          by=\"% No Cars Quads\", \n",
    "                          figsize=(20, 10),\n",
    "                         )\n",
    "fig.set_title('Comparing Proportion of Delivery Restaurants Across Ranges of HH Vehicle Ownership', fontsize=16, fontweight=\"bold\")\n",
    "fig.set_xlabel(\"% Households Without Vehicles\",fontsize=16)\n",
    "fig.set_ylabel(\"% Restaurants That Deliver\",fontsize=16)\n",
    "fig.grid(False)\n",
    "\n",
    "\n"
   ]
  },
  {
   "cell_type": "code",
   "execution_count": 108,
   "metadata": {},
   "outputs": [
    {
     "data": {
      "text/plain": [
       "<Figure size 432x288 with 0 Axes>"
      ]
     },
     "metadata": {},
     "output_type": "display_data"
    }
   ],
   "source": [
    "plt.savefig(\"Delivery_boxplot.png\")"
   ]
  },
  {
   "cell_type": "code",
   "execution_count": null,
   "metadata": {},
   "outputs": [],
   "source": []
  }
 ],
 "metadata": {
  "kernelspec": {
   "display_name": "Python [conda env:PythonData] *",
   "language": "python",
   "name": "conda-env-PythonData-py"
  },
  "language_info": {
   "codemirror_mode": {
    "name": "ipython",
    "version": 3
   },
   "file_extension": ".py",
   "mimetype": "text/x-python",
   "name": "python",
   "nbconvert_exporter": "python",
   "pygments_lexer": "ipython3",
   "version": "3.6.8"
  }
 },
 "nbformat": 4,
 "nbformat_minor": 2
}
