{
 "cells": [
  {
   "cell_type": "code",
   "execution_count": 2,
   "metadata": {},
   "outputs": [],
   "source": [
    "# Import the modules\n",
    "import requests\n",
    "import json\n",
    "import numpy as np\n",
    "import pandas as pd \n",
    "import matplotlib.pyplot as plt\n",
    "import requests \n",
    "from config import yelpkey"
   ]
  },
  {
   "cell_type": "code",
   "execution_count": 3,
   "metadata": {},
   "outputs": [],
   "source": [
    "# Define API Key, Endpoint, and Header\n",
    "API_KEY = yelpkey\n",
    "ENDPOINT = 'https://api.yelp.com/v3/businesses/search'\n",
    "HEADERS = {'Authorization': 'bearer %s' % API_KEY}"
   ]
  },
  {
   "cell_type": "code",
   "execution_count": 4,
   "metadata": {},
   "outputs": [
    {
     "data": {
      "text/html": [
       "<div>\n",
       "<style scoped>\n",
       "    .dataframe tbody tr th:only-of-type {\n",
       "        vertical-align: middle;\n",
       "    }\n",
       "\n",
       "    .dataframe tbody tr th {\n",
       "        vertical-align: top;\n",
       "    }\n",
       "\n",
       "    .dataframe thead th {\n",
       "        text-align: right;\n",
       "    }\n",
       "</style>\n",
       "<table border=\"1\" class=\"dataframe\">\n",
       "  <thead>\n",
       "    <tr style=\"text-align: right;\">\n",
       "      <th></th>\n",
       "      <th>Zip Code</th>\n",
       "    </tr>\n",
       "  </thead>\n",
       "  <tbody>\n",
       "    <tr>\n",
       "      <th>0</th>\n",
       "      <td>10924</td>\n",
       "    </tr>\n",
       "    <tr>\n",
       "      <th>1</th>\n",
       "      <td>10918</td>\n",
       "    </tr>\n",
       "    <tr>\n",
       "      <th>2</th>\n",
       "      <td>10028</td>\n",
       "    </tr>\n",
       "    <tr>\n",
       "      <th>3</th>\n",
       "      <td>10022</td>\n",
       "    </tr>\n",
       "    <tr>\n",
       "      <th>4</th>\n",
       "      <td>10001</td>\n",
       "    </tr>\n",
       "  </tbody>\n",
       "</table>\n",
       "</div>"
      ],
      "text/plain": [
       "   Zip Code\n",
       "0     10924\n",
       "1     10918\n",
       "2     10028\n",
       "3     10022\n",
       "4     10001"
      ]
     },
     "execution_count": 4,
     "metadata": {},
     "output_type": "execute_result"
    }
   ],
   "source": [
    "# import NY zip codes list from CSV & convert into dataframe\n",
    "# note, to test, I'm using an abbreciated version of our zip code list \n",
    "\n",
    "zipcodes_data = \"clean_operational_ny_zips_SHORT.csv\"\n",
    "zipcodes_df = pd.read_csv(zipcodes_data)\n",
    "zipcodes_df"
   ]
  },
  {
   "cell_type": "code",
   "execution_count": 5,
   "metadata": {},
   "outputs": [
    {
     "data": {
      "text/html": [
       "<div>\n",
       "<style scoped>\n",
       "    .dataframe tbody tr th:only-of-type {\n",
       "        vertical-align: middle;\n",
       "    }\n",
       "\n",
       "    .dataframe tbody tr th {\n",
       "        vertical-align: top;\n",
       "    }\n",
       "\n",
       "    .dataframe thead th {\n",
       "        text-align: right;\n",
       "    }\n",
       "</style>\n",
       "<table border=\"1\" class=\"dataframe\">\n",
       "  <thead>\n",
       "    <tr style=\"text-align: right;\">\n",
       "      <th></th>\n",
       "      <th>Zip Code</th>\n",
       "      <th># Restaurants</th>\n",
       "    </tr>\n",
       "  </thead>\n",
       "  <tbody>\n",
       "    <tr>\n",
       "      <th>0</th>\n",
       "      <td>10924</td>\n",
       "      <td></td>\n",
       "    </tr>\n",
       "    <tr>\n",
       "      <th>1</th>\n",
       "      <td>10918</td>\n",
       "      <td></td>\n",
       "    </tr>\n",
       "    <tr>\n",
       "      <th>2</th>\n",
       "      <td>10028</td>\n",
       "      <td></td>\n",
       "    </tr>\n",
       "    <tr>\n",
       "      <th>3</th>\n",
       "      <td>10022</td>\n",
       "      <td></td>\n",
       "    </tr>\n",
       "    <tr>\n",
       "      <th>4</th>\n",
       "      <td>10001</td>\n",
       "      <td></td>\n",
       "    </tr>\n",
       "  </tbody>\n",
       "</table>\n",
       "</div>"
      ],
      "text/plain": [
       "   Zip Code # Restaurants\n",
       "0     10924              \n",
       "1     10918              \n",
       "2     10028              \n",
       "3     10022              \n",
       "4     10001              "
      ]
     },
     "execution_count": 5,
     "metadata": {},
     "output_type": "execute_result"
    }
   ],
   "source": [
    "# Add column to hold number of restaurants\n",
    "zipcodes_df[\"# Restaurants\"] = \"\"\n",
    "zipcodes_df"
   ]
  },
  {
   "cell_type": "code",
   "execution_count": 7,
   "metadata": {},
   "outputs": [
    {
     "name": "stdout",
     "output_type": "stream",
     "text": [
      "Finding \"restaurant,chinese,all\" info for zip code: 10924\n",
      "Total Results: 159\n",
      "2 found directly in 10924\n",
      "-------------------------------------------\n",
      "Finding \"restaurant,chinese,all\" info for zip code: 10918\n",
      "Total Results: 44\n",
      "2 found directly in 10918\n",
      "-------------------------------------------\n",
      "Finding \"restaurant,chinese,all\" info for zip code: 10028\n",
      "Total Results: 29\n",
      "8 found directly in 10028\n",
      "-------------------------------------------\n",
      "Finding \"restaurant,chinese,all\" info for zip code: 10022\n",
      "Total Results: 54\n",
      "19 found directly in 10022\n",
      "-------------------------------------------\n",
      "Finding \"restaurant,chinese,all\" info for zip code: 10001\n",
      "Total Results: 65\n",
      "15 found directly in 10001\n",
      "-------------------------------------------\n"
     ]
    }
   ],
   "source": [
    "# create a loop that looks up the zip in each row and adds total # Chinese rest to the column\n",
    "for index, row in zipcodes_df.iterrows():    \n",
    "    zip = row['Zip Code']\n",
    "    PARAMETERS = {'categories': 'restaurant,chinese,all',\n",
    "                  'location': zip,\n",
    "                  'limit': 50,\n",
    "                  'offset': 0,\n",
    "                  'sort_by': 'distance'}\n",
    "    try:\n",
    "        print(f'Finding \"{PARAMETERS[\"categories\"]}\" info for zip code: {zip}')\n",
    "        business_data = requests.get(url=ENDPOINT, params=PARAMETERS, headers=HEADERS).json()\n",
    "        print(f'Total Results: {business_data[\"total\"]}')\n",
    "        \n",
    "        # loop through the search results, counting up the ones that are actually in the zip code\n",
    "        count_in_zip = 0 \n",
    "        for restaurant in business_data['businesses']:\n",
    "            if restaurant['location']['zip_code'] == str(PARAMETERS['location']):\n",
    "                count_in_zip += 1\n",
    "            zipcodes_df.loc[index, \"# Restaurants\"] = count_in_zip\n",
    "\n",
    "        # if the requested search result total is larger than 50 (max request size), we need to make\n",
    "        # multiple requests to get all the data. We do this using the 'offset' parameter. However, Yelp \n",
    "        # only allows us to pull up to 1000 search results, so we also need to make sure we don't loop\n",
    "        # past 1000 results\n",
    "        if int(business_data['total']) > 50:\n",
    "            yelp_result_count = 1000 if int(business_data['total']) > 1000 else int(business_data['total'])\n",
    "            for i in range(PARAMETERS['limit'] + 1, yelp_result_count, 50):\n",
    "                PARAMETERS['offset'] = i\n",
    "                business_data = requests.get(url=ENDPOINT, params=PARAMETERS, headers=HEADERS).json()\n",
    "                for restaurant in business_data['businesses']:\n",
    "                    if restaurant['location']['zip_code'] == str(PARAMETERS['location']):\n",
    "                        count_in_zip += 1\n",
    "                    zipcodes_df.loc[index, \"# Restaurants\"] = count_in_zip\n",
    "        \n",
    "        # print how many found direclty in zip code\n",
    "        print(f'{count_in_zip} found directly in {PARAMETERS[\"location\"]}')\n",
    "    except json.decoder.JSONDecodeError:\n",
    "        print(\"Missing field/result... skipping.\")\n",
    "    print(\"-------------------------------------------\")"
   ]
  },
  {
   "cell_type": "code",
   "execution_count": 8,
   "metadata": {},
   "outputs": [
    {
     "data": {
      "text/html": [
       "<div>\n",
       "<style scoped>\n",
       "    .dataframe tbody tr th:only-of-type {\n",
       "        vertical-align: middle;\n",
       "    }\n",
       "\n",
       "    .dataframe tbody tr th {\n",
       "        vertical-align: top;\n",
       "    }\n",
       "\n",
       "    .dataframe thead th {\n",
       "        text-align: right;\n",
       "    }\n",
       "</style>\n",
       "<table border=\"1\" class=\"dataframe\">\n",
       "  <thead>\n",
       "    <tr style=\"text-align: right;\">\n",
       "      <th></th>\n",
       "      <th>Zip Code</th>\n",
       "      <th># Restaurants</th>\n",
       "    </tr>\n",
       "  </thead>\n",
       "  <tbody>\n",
       "    <tr>\n",
       "      <th>0</th>\n",
       "      <td>10924</td>\n",
       "      <td>2</td>\n",
       "    </tr>\n",
       "    <tr>\n",
       "      <th>1</th>\n",
       "      <td>10918</td>\n",
       "      <td>2</td>\n",
       "    </tr>\n",
       "    <tr>\n",
       "      <th>2</th>\n",
       "      <td>10028</td>\n",
       "      <td>8</td>\n",
       "    </tr>\n",
       "    <tr>\n",
       "      <th>3</th>\n",
       "      <td>10022</td>\n",
       "      <td>19</td>\n",
       "    </tr>\n",
       "    <tr>\n",
       "      <th>4</th>\n",
       "      <td>10001</td>\n",
       "      <td>15</td>\n",
       "    </tr>\n",
       "  </tbody>\n",
       "</table>\n",
       "</div>"
      ],
      "text/plain": [
       "   Zip Code  # Restaurants\n",
       "0     10924              2\n",
       "1     10918              2\n",
       "2     10028              8\n",
       "3     10022             19\n",
       "4     10001             15"
      ]
     },
     "execution_count": 8,
     "metadata": {},
     "output_type": "execute_result"
    }
   ],
   "source": [
    "# print the data frame, which should now include the Chinese restaurant count by zip\n",
    "zipcodes_df\n"
   ]
  },
  {
   "cell_type": "code",
   "execution_count": null,
   "metadata": {},
   "outputs": [],
   "source": []
  }
 ],
 "metadata": {
  "kernelspec": {
   "display_name": "Python 3",
   "language": "python",
   "name": "python3"
  },
  "language_info": {
   "codemirror_mode": {
    "name": "ipython",
    "version": 3
   },
   "file_extension": ".py",
   "mimetype": "text/x-python",
   "name": "python",
   "nbconvert_exporter": "python",
   "pygments_lexer": "ipython3",
   "version": "3.7.3"
  }
 },
 "nbformat": 4,
 "nbformat_minor": 2
}
