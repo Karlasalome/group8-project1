{
 "cells": [
  {
   "cell_type": "code",
   "execution_count": null,
   "metadata": {},
   "outputs": [],
   "source": [
    "# import dependencies\n",
    "import requests\n",
    "import json\n",
    "from pprint import pprint\n",
    "import pandas as pd\n",
    "import numpy as np\n",
    "import matplotlib.pyplot as plt\n",
    "\n",
    "# connect to API key\n",
    "from config import googlekey\n"
   ]
  },
  {
   "cell_type": "code",
   "execution_count": null,
   "metadata": {},
   "outputs": [],
   "source": [
    "# creat base url \n",
    "url = \"https://maps.googleapis.com/maps/api/place/textsearch/json?\"\n",
    "  \n",
    "# The text string on which to search \n",
    "query = input('Search query: ') \n"
   ]
  },
  {
   "cell_type": "code",
   "execution_count": null,
   "metadata": {},
   "outputs": [],
   "source": [
    "# get method of requests module \n",
    "# return response object \n",
    "response = requests.get(url + 'query=' + query +\n",
    "                        '&key=' + googlekey) \n",
    "\n",
    "# json method of response object convert \n",
    "#  json format data into python format data \n",
    "x = response.json() \n",
    "  \n",
    "# now x contains list of nested dictionaries \n",
    "# we know dictionary contain key value pair \n",
    "# store the value of result key in variable y \n",
    "y = x['results'] \n",
    "  \n",
    "# keep looping upto lenght of y \n",
    "for i in range(len(y)): \n",
    "      \n",
    "    # Print value corresponding to the \n",
    "    # 'name' key at the ith index of y \n",
    "    print(y[i]['name']) "
   ]
  },
  {
   "cell_type": "code",
   "execution_count": null,
   "metadata": {},
   "outputs": [],
   "source": [

    "# scott adding his own changes"

   ]
  }
 ],
 "metadata": {
  "kernelspec": {

   "display_name": "Python [conda env:PythonData] *",
   "language": "python",
   "name": "conda-env-PythonData-py"
  },
  "language_info": {
   "codemirror_mode": {
    "name": "ipython",
    "version": 3
   },
   "file_extension": ".py",
   "mimetype": "text/x-python",
   "name": "python",
   "nbconvert_exporter": "python",
   "pygments_lexer": "ipython3",

   "version": "3.6.8"

  }
 },
 "nbformat": 4,
 "nbformat_minor": 2
}
