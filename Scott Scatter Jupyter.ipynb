{
 "cells": [
  {
   "cell_type": "code",
   "execution_count": 1,
   "metadata": {},
   "outputs": [],
   "source": [
    "import requests\n",
    "import json\n",
    "import numpy as np\n",
    "import pandas as pd \n",
    "import matplotlib.pyplot as plt\n",
    "import requests \n",
    "from scipy import stats\n",
    "import seaborn as sns\n",
    "from Scott_keys import yelpkey"
   ]
  },
  {
   "cell_type": "code",
   "execution_count": 2,
   "metadata": {},
   "outputs": [
    {
     "data": {
      "text/html": [
       "<div>\n",
       "<style scoped>\n",
       "    .dataframe tbody tr th:only-of-type {\n",
       "        vertical-align: middle;\n",
       "    }\n",
       "\n",
       "    .dataframe tbody tr th {\n",
       "        vertical-align: top;\n",
       "    }\n",
       "\n",
       "    .dataframe thead th {\n",
       "        text-align: right;\n",
       "    }\n",
       "</style>\n",
       "<table border=\"1\" class=\"dataframe\">\n",
       "  <thead>\n",
       "    <tr style=\"text-align: right;\">\n",
       "      <th></th>\n",
       "      <th>Zip Code</th>\n",
       "      <th># Pizza/Chinese Restaurants</th>\n",
       "      <th># That Deliver</th>\n",
       "      <th>% That Deliver</th>\n",
       "      <th>% No Cars</th>\n",
       "    </tr>\n",
       "  </thead>\n",
       "  <tbody>\n",
       "    <tr>\n",
       "      <th>0</th>\n",
       "      <td>10001</td>\n",
       "      <td>50</td>\n",
       "      <td>35.0</td>\n",
       "      <td>0.700000</td>\n",
       "      <td>82.6</td>\n",
       "    </tr>\n",
       "    <tr>\n",
       "      <th>1</th>\n",
       "      <td>10002</td>\n",
       "      <td>160</td>\n",
       "      <td>54.0</td>\n",
       "      <td>0.337500</td>\n",
       "      <td>81.6</td>\n",
       "    </tr>\n",
       "    <tr>\n",
       "      <th>2</th>\n",
       "      <td>10003</td>\n",
       "      <td>89</td>\n",
       "      <td>62.0</td>\n",
       "      <td>0.696629</td>\n",
       "      <td>78.3</td>\n",
       "    </tr>\n",
       "    <tr>\n",
       "      <th>3</th>\n",
       "      <td>10004</td>\n",
       "      <td>20</td>\n",
       "      <td>12.0</td>\n",
       "      <td>0.600000</td>\n",
       "      <td>81.1</td>\n",
       "    </tr>\n",
       "    <tr>\n",
       "      <th>4</th>\n",
       "      <td>10005</td>\n",
       "      <td>6</td>\n",
       "      <td>4.0</td>\n",
       "      <td>0.666667</td>\n",
       "      <td>83.5</td>\n",
       "    </tr>\n",
       "  </tbody>\n",
       "</table>\n",
       "</div>"
      ],
      "text/plain": [
       "   Zip Code  # Pizza/Chinese Restaurants  # That Deliver  % That Deliver  \\\n",
       "0     10001                           50            35.0        0.700000   \n",
       "1     10002                          160            54.0        0.337500   \n",
       "2     10003                           89            62.0        0.696629   \n",
       "3     10004                           20            12.0        0.600000   \n",
       "4     10005                            6             4.0        0.666667   \n",
       "\n",
       "   % No Cars  \n",
       "0       82.6  \n",
       "1       81.6  \n",
       "2       78.3  \n",
       "3       81.1  \n",
       "4       83.5  "
      ]
     },
     "execution_count": 2,
     "metadata": {},
     "output_type": "execute_result"
    }
   ],
   "source": [
    "# import Ryan's delivery data\n",
    "\n",
    "delivery_data = pd.read_csv(\"delivery_dataframe_run.csv\")\n",
    "delivery_df = pd.DataFrame(delivery_data)\n",
    "delivery_df.head()"
   ]
  },
  {
   "cell_type": "code",
   "execution_count": 3,
   "metadata": {},
   "outputs": [
    {
     "data": {
      "text/html": [
       "<div>\n",
       "<style scoped>\n",
       "    .dataframe tbody tr th:only-of-type {\n",
       "        vertical-align: middle;\n",
       "    }\n",
       "\n",
       "    .dataframe tbody tr th {\n",
       "        vertical-align: top;\n",
       "    }\n",
       "\n",
       "    .dataframe thead th {\n",
       "        text-align: right;\n",
       "    }\n",
       "</style>\n",
       "<table border=\"1\" class=\"dataframe\">\n",
       "  <thead>\n",
       "    <tr style=\"text-align: right;\">\n",
       "      <th></th>\n",
       "      <th>Zip Code</th>\n",
       "      <th># Pizza/Chinese Restaurants</th>\n",
       "      <th># That Deliver</th>\n",
       "      <th>% That Deliver</th>\n",
       "      <th>% No Cars</th>\n",
       "    </tr>\n",
       "  </thead>\n",
       "  <tbody>\n",
       "    <tr>\n",
       "      <th>0</th>\n",
       "      <td>10001</td>\n",
       "      <td>50</td>\n",
       "      <td>35.0</td>\n",
       "      <td>70.0</td>\n",
       "      <td>82.6</td>\n",
       "    </tr>\n",
       "    <tr>\n",
       "      <th>1</th>\n",
       "      <td>10002</td>\n",
       "      <td>160</td>\n",
       "      <td>54.0</td>\n",
       "      <td>33.8</td>\n",
       "      <td>81.6</td>\n",
       "    </tr>\n",
       "    <tr>\n",
       "      <th>2</th>\n",
       "      <td>10003</td>\n",
       "      <td>89</td>\n",
       "      <td>62.0</td>\n",
       "      <td>69.7</td>\n",
       "      <td>78.3</td>\n",
       "    </tr>\n",
       "    <tr>\n",
       "      <th>3</th>\n",
       "      <td>10004</td>\n",
       "      <td>20</td>\n",
       "      <td>12.0</td>\n",
       "      <td>60.0</td>\n",
       "      <td>81.1</td>\n",
       "    </tr>\n",
       "    <tr>\n",
       "      <th>4</th>\n",
       "      <td>10005</td>\n",
       "      <td>6</td>\n",
       "      <td>4.0</td>\n",
       "      <td>66.7</td>\n",
       "      <td>83.5</td>\n",
       "    </tr>\n",
       "  </tbody>\n",
       "</table>\n",
       "</div>"
      ],
      "text/plain": [
       "   Zip Code  # Pizza/Chinese Restaurants  # That Deliver % That Deliver  \\\n",
       "0     10001                           50            35.0           70.0   \n",
       "1     10002                          160            54.0           33.8   \n",
       "2     10003                           89            62.0           69.7   \n",
       "3     10004                           20            12.0           60.0   \n",
       "4     10005                            6             4.0           66.7   \n",
       "\n",
       "   % No Cars  \n",
       "0       82.6  \n",
       "1       81.6  \n",
       "2       78.3  \n",
       "3       81.1  \n",
       "4       83.5  "
      ]
     },
     "execution_count": 3,
     "metadata": {},
     "output_type": "execute_result"
    }
   ],
   "source": [
    "# format the % deliver column to match % no cars\n",
    "\n",
    "delivery_df['% That Deliver'] = (delivery_df['% That Deliver'] * 100).map('{:,.1f}'.format)\n",
    "delivery_df.head()"
   ]
  },
  {
   "cell_type": "code",
   "execution_count": 4,
   "metadata": {},
   "outputs": [
    {
     "data": {
      "text/plain": [
       "Zip Code                         int64\n",
       "# Pizza/Chinese Restaurants      int64\n",
       "# That Deliver                 float64\n",
       "% That Deliver                  object\n",
       "% No Cars                      float64\n",
       "dtype: object"
      ]
     },
     "execution_count": 4,
     "metadata": {},
     "output_type": "execute_result"
    }
   ],
   "source": [
    "# check data types\n",
    "delivery_df.dtypes"
   ]
  },
  {
   "cell_type": "code",
   "execution_count": 5,
   "metadata": {},
   "outputs": [
    {
     "data": {
      "text/plain": [
       "Zip Code                         int64\n",
       "# Pizza/Chinese Restaurants      int64\n",
       "# That Deliver                 float64\n",
       "% That Deliver                 float64\n",
       "% No Cars                      float64\n",
       "dtype: object"
      ]
     },
     "execution_count": 5,
     "metadata": {},
     "output_type": "execute_result"
    }
   ],
   "source": [
    "# convert % deliver to float data type\n",
    "delivery_df['% That Deliver'] = delivery_df['% That Deliver'].astype(float)\n",
    "delivery_df.dtypes\n"
   ]
  },
  {
   "cell_type": "code",
   "execution_count": 6,
   "metadata": {},
   "outputs": [
    {
     "name": "stdout",
     "output_type": "stream",
     "text": [
      "0.0012373177024357993\n"
     ]
    }
   ],
   "source": [
    "# calculate P value\n",
    "slope, intercept, r_value, p_value, std_err = stats.linregress(delivery_df['% That Deliver'], delivery_df['% No Cars'])\n",
    "print(p_value)\n"
   ]
  },
  {
   "cell_type": "code",
   "execution_count": 11,
   "metadata": {},
   "outputs": [
    {
     "data": {
      "image/png": "[encoded data removed]",
      "text/plain": [
       "<Figure size 720x720 with 1 Axes>"
      ]
     },
     "metadata": {
      "needs_background": "light"
     },
     "output_type": "display_data"
    }
   ],
   "source": [
    "# plot scatter\n",
    "plt.figure(figsize=(10,10))\n",
    "plt.plot(delivery_df['% That Deliver'], delivery_df['% No Cars'], 'o', color= '#666666', alpha=.5, label='zip codes', markersize=10)\n",
    "plt.plot(delivery_df['% That Deliver'], intercept + slope*(delivery_df['% That Deliver']), color='#00CC99', label='fitted line')\n",
    "plt.legend()\n",
    "plt.ylim([0,100]) \n",
    "plt.xlim([0,100])\n",
    "plt.title(\"Delivery Restaurants vs Vehicle Ownership\",fontsize=20, fontweight=\"bold\")\n",
    "plt.xlabel(\"% Restaurants That Deliver\",fontsize=16)\n",
    "plt.ylabel(\"% Households Without Vehicles\",fontsize=16)\n",
    "plt.show()\n"
   ]
  },
  {
   "cell_type": "code",
   "execution_count": null,
   "metadata": {},
   "outputs": [],
   "source": []
  }
 ],
 "metadata": {
  "kernelspec": {
   "display_name": "Python [conda env:PythonData] *",
   "language": "python",
   "name": "conda-env-PythonData-py"
  },
  "language_info": {
   "codemirror_mode": {
    "name": "ipython",
    "version": 3
   },
   "file_extension": ".py",
   "mimetype": "text/x-python",
   "name": "python",
   "nbconvert_exporter": "python",
   "pygments_lexer": "ipython3",
   "version": "3.6.8"
  }
 },
 "nbformat": 4,
 "nbformat_minor": 2
}
