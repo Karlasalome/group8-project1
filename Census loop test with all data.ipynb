{
 "cells": [
  {
   "cell_type": "code",
   "execution_count": 2,
   "metadata": {},
   "outputs": [],
   "source": [
    "# import dependencies\n",
    "import requests\n",
    "import json\n",
    "from pprint import pprint\n",
    "import pandas as pd\n",
    "import numpy as np\n",
    "import matplotlib.pyplot as plt\n",
    "\n",
    "# connect to API key\n",
    "from config import gkey\n"
   ]
  },
  {
   "cell_type": "code",
   "execution_count": 3,
   "metadata": {},
   "outputs": [
    {
     "data": {
      "text/html": [
       "<div>\n",
       "<style scoped>\n",
       "    .dataframe tbody tr th:only-of-type {\n",
       "        vertical-align: middle;\n",
       "    }\n",
       "\n",
       "    .dataframe tbody tr th {\n",
       "        vertical-align: top;\n",
       "    }\n",
       "\n",
       "    .dataframe thead th {\n",
       "        text-align: right;\n",
       "    }\n",
       "</style>\n",
       "<table border=\"1\" class=\"dataframe\">\n",
       "  <thead>\n",
       "    <tr style=\"text-align: right;\">\n",
       "      <th></th>\n",
       "      <th>Zip Code</th>\n",
       "    </tr>\n",
       "  </thead>\n",
       "  <tbody>\n",
       "    <tr>\n",
       "      <th>0</th>\n",
       "      <td>10001</td>\n",
       "    </tr>\n",
       "    <tr>\n",
       "      <th>1</th>\n",
       "      <td>10002</td>\n",
       "    </tr>\n",
       "    <tr>\n",
       "      <th>2</th>\n",
       "      <td>10003</td>\n",
       "    </tr>\n",
       "    <tr>\n",
       "      <th>3</th>\n",
       "      <td>10004</td>\n",
       "    </tr>\n",
       "    <tr>\n",
       "      <th>4</th>\n",
       "      <td>10005</td>\n",
       "    </tr>\n",
       "  </tbody>\n",
       "</table>\n",
       "</div>"
      ],
      "text/plain": [
       "   Zip Code\n",
       "0     10001\n",
       "1     10002\n",
       "2     10003\n",
       "3     10004\n",
       "4     10005"
      ]
     },
     "execution_count": 3,
     "metadata": {},
     "output_type": "execute_result"
    }
   ],
   "source": [
    "# read zip codes csv\n",
    "zipcodes_data = \"ny_state_zipcodes.csv\" \n",
    "zipcodes_df = pd.read_csv(zipcodes_data)\n",
    "zipcodes_df.head()\n"
   ]
  },
  {
   "cell_type": "code",
   "execution_count": 4,
   "metadata": {},
   "outputs": [
    {
     "data": {
      "text/html": [
       "<div>\n",
       "<style scoped>\n",
       "    .dataframe tbody tr th:only-of-type {\n",
       "        vertical-align: middle;\n",
       "    }\n",
       "\n",
       "    .dataframe tbody tr th {\n",
       "        vertical-align: top;\n",
       "    }\n",
       "\n",
       "    .dataframe thead th {\n",
       "        text-align: right;\n",
       "    }\n",
       "</style>\n",
       "<table border=\"1\" class=\"dataframe\">\n",
       "  <thead>\n",
       "    <tr style=\"text-align: right;\">\n",
       "      <th></th>\n",
       "      <th>Zip Code</th>\n",
       "      <th>Avg Income ($)</th>\n",
       "      <th># Single</th>\n",
       "      <th># No Cars</th>\n",
       "      <th># Chinese</th>\n",
       "    </tr>\n",
       "  </thead>\n",
       "  <tbody>\n",
       "    <tr>\n",
       "      <th>0</th>\n",
       "      <td>10001</td>\n",
       "      <td></td>\n",
       "      <td></td>\n",
       "      <td></td>\n",
       "      <td></td>\n",
       "    </tr>\n",
       "    <tr>\n",
       "      <th>1</th>\n",
       "      <td>10002</td>\n",
       "      <td></td>\n",
       "      <td></td>\n",
       "      <td></td>\n",
       "      <td></td>\n",
       "    </tr>\n",
       "    <tr>\n",
       "      <th>2</th>\n",
       "      <td>10003</td>\n",
       "      <td></td>\n",
       "      <td></td>\n",
       "      <td></td>\n",
       "      <td></td>\n",
       "    </tr>\n",
       "    <tr>\n",
       "      <th>3</th>\n",
       "      <td>10004</td>\n",
       "      <td></td>\n",
       "      <td></td>\n",
       "      <td></td>\n",
       "      <td></td>\n",
       "    </tr>\n",
       "    <tr>\n",
       "      <th>4</th>\n",
       "      <td>10005</td>\n",
       "      <td></td>\n",
       "      <td></td>\n",
       "      <td></td>\n",
       "      <td></td>\n",
       "    </tr>\n",
       "  </tbody>\n",
       "</table>\n",
       "</div>"
      ],
      "text/plain": [
       "   Zip Code Avg Income ($) # Single # No Cars # Chinese\n",
       "0     10001                                            \n",
       "1     10002                                            \n",
       "2     10003                                            \n",
       "3     10004                                            \n",
       "4     10005                                            "
      ]
     },
     "execution_count": 4,
     "metadata": {},
     "output_type": "execute_result"
    }
   ],
   "source": [
    "# Add columns for income, # single, # no cards, # chinese\n",
    "zipcodes_df[\"Avg Income ($)\"] = \"\"\n",
    "zipcodes_df[\"# Single\"] = \"\"\n",
    "zipcodes_df[\"# No Cars\"] = \"\"\n",
    "zipcodes_df[\"# Chinese\"] = \"\"\n",
    "zipcodes_df.head()\n"
   ]
  },
  {
   "cell_type": "code",
   "execution_count": 5,
   "metadata": {},
   "outputs": [
    {
     "data": {
      "text/plain": [
       "Zip Code          object\n",
       "Avg Income ($)    object\n",
       "# Single          object\n",
       "# No Cars         object\n",
       "# Chinese         object\n",
       "dtype: object"
      ]
     },
     "execution_count": 5,
     "metadata": {},
     "output_type": "execute_result"
    }
   ],
   "source": [
    "zipcodes_df = zipcodes_df.astype({\"Zip Code\": object})\n",
    "zipcodes_df.dtypes"
   ]
  },
  {
   "cell_type": "code",
   "execution_count": 6,
   "metadata": {},
   "outputs": [
    {
     "name": "stdout",
     "output_type": "stream",
     "text": [
      "<Response [200]>\n"
     ]
    }
   ],
   "source": [
    "# establish base URL \n",
    "base_url = \"https://api.census.gov/data/2017/acs/acs5/profile\"\n",
    "\n",
    "# print the response object to the console\n",
    "response = requests.get(base_url)\n",
    "print(response)\n"
   ]
  },
  {
   "cell_type": "code",
   "execution_count": 10,
   "metadata": {},
   "outputs": [
    {
     "name": "stdout",
     "output_type": "stream",
     "text": [
      "10001\n",
      "Finding demo data for zip code: 10001\n"
     ]
    },
    {
     "ename": "IndexError",
     "evalue": "list index out of range",
     "output_type": "error",
     "traceback": [
      "\u001b[0;31m---------------------------------------------------------------------------\u001b[0m",
      "\u001b[0;31mIndexError\u001b[0m                                Traceback (most recent call last)",
      "\u001b[0;32m<ipython-input-10-ca5abc73ae93>\u001b[0m in \u001b[0;36m<module>\u001b[0;34m\u001b[0m\n\u001b[1;32m     23\u001b[0m         \u001b[0mzipcodes_df\u001b[0m\u001b[0;34m.\u001b[0m\u001b[0mloc\u001b[0m\u001b[0;34m[\u001b[0m\u001b[0mindex\u001b[0m\u001b[0;34m,\u001b[0m \u001b[0;34m\"# Single\"\u001b[0m\u001b[0;34m]\u001b[0m \u001b[0;34m=\u001b[0m \u001b[0mresponse\u001b[0m\u001b[0;34m[\u001b[0m\u001b[0;36m1\u001b[0m\u001b[0;34m]\u001b[0m\u001b[0;34m[\u001b[0m\u001b[0;36m1\u001b[0m\u001b[0;34m]\u001b[0m\u001b[0;34m\u001b[0m\u001b[0;34m\u001b[0m\u001b[0m\n\u001b[1;32m     24\u001b[0m         \u001b[0mzipcodes_df\u001b[0m\u001b[0;34m.\u001b[0m\u001b[0mloc\u001b[0m\u001b[0;34m[\u001b[0m\u001b[0mindex\u001b[0m\u001b[0;34m,\u001b[0m \u001b[0;34m\"# No Cars\"\u001b[0m\u001b[0;34m]\u001b[0m \u001b[0;34m=\u001b[0m \u001b[0mresponse\u001b[0m\u001b[0;34m[\u001b[0m\u001b[0;36m1\u001b[0m\u001b[0;34m]\u001b[0m\u001b[0;34m[\u001b[0m\u001b[0;36m2\u001b[0m\u001b[0;34m]\u001b[0m\u001b[0;34m\u001b[0m\u001b[0;34m\u001b[0m\u001b[0m\n\u001b[0;32m---> 25\u001b[0;31m         \u001b[0mzipcodes_df\u001b[0m\u001b[0;34m.\u001b[0m\u001b[0mloc\u001b[0m\u001b[0;34m[\u001b[0m\u001b[0mindex\u001b[0m\u001b[0;34m,\u001b[0m \u001b[0;34m\"# Chinese\"\u001b[0m\u001b[0;34m]\u001b[0m \u001b[0;34m=\u001b[0m \u001b[0mresponse\u001b[0m\u001b[0;34m[\u001b[0m\u001b[0;36m1\u001b[0m\u001b[0;34m]\u001b[0m\u001b[0;34m[\u001b[0m\u001b[0;36m3\u001b[0m\u001b[0;34m]\u001b[0m\u001b[0;34m\u001b[0m\u001b[0;34m\u001b[0m\u001b[0m\n\u001b[0m\u001b[1;32m     26\u001b[0m \u001b[0;34m\u001b[0m\u001b[0m\n\u001b[1;32m     27\u001b[0m     \u001b[0;32mexcept\u001b[0m \u001b[0mjson\u001b[0m\u001b[0;34m.\u001b[0m\u001b[0mdecoder\u001b[0m\u001b[0;34m.\u001b[0m\u001b[0mJSONDecodeError\u001b[0m\u001b[0;34m:\u001b[0m\u001b[0;34m\u001b[0m\u001b[0;34m\u001b[0m\u001b[0m\n",
      "\u001b[0;31mIndexError\u001b[0m: list index out of range"
     ]
    }
   ],
   "source": [
    "# loop through all zips in the df, adding the census variables to each row\n",
    "\n",
    "base_url = \"https://api.census.gov/data/2017/acs/acs5/profile\"\n",
    "\n",
    "avg_income = \"DP03_0063E\"   \n",
    "single_hh = \"DP02_0011E\"\n",
    "hh_no_vehicles = \"DP04_0058E\"\n",
    "chinese_pop = \"DP05_0046E\"\n",
    "\n",
    "for index, row in zipcodes_df.iterrows():    \n",
    "    print(zip)\n",
    "    zip = row['Zip Code']\n",
    "    \n",
    "    query_url = f\"{base_url}?get={hh_no_vehicles},NAME&for=zip%20code%20tabulation%20area:{zip}&key={gkey}\"\n",
    "    \n",
    "    try:\n",
    "        response = requests.get(query_url).json()\n",
    "        #pprint(response)\n",
    "        \n",
    "        print(f\"Finding demo data for zip code: {zip}\")\n",
    "        \n",
    "        zipcodes_df.loc[index, \"Avg Income ($)\"] = response[1][0]\n",
    "        zipcodes_df.loc[index, \"# Single\"] = response[1][1]\n",
    "        zipcodes_df.loc[index, \"# No Cars\"] = response[1][2]\n",
    "        zipcodes_df.loc[index, \"# Chinese\"] = response[1][3]  \n",
    "    \n",
    "    except json.decoder.JSONDecodeError:\n",
    "        print(\"Missing field/result... skipping.\")\n",
    "        \n",
    "    print(\"-------------------------------------------\")"
   ]
  },
  {
   "cell_type": "code",
   "execution_count": 12,
   "metadata": {},
   "outputs": [
    {
     "name": "stdout",
     "output_type": "stream",
     "text": [
      "2202\n"
     ]
    },
    {
     "data": {
      "text/html": [
       "<div>\n",
       "<style scoped>\n",
       "    .dataframe tbody tr th:only-of-type {\n",
       "        vertical-align: middle;\n",
       "    }\n",
       "\n",
       "    .dataframe tbody tr th {\n",
       "        vertical-align: top;\n",
       "    }\n",
       "\n",
       "    .dataframe thead th {\n",
       "        text-align: right;\n",
       "    }\n",
       "</style>\n",
       "<table border=\"1\" class=\"dataframe\">\n",
       "  <thead>\n",
       "    <tr style=\"text-align: right;\">\n",
       "      <th></th>\n",
       "      <th>Zip Code</th>\n",
       "      <th>Avg Income ($)</th>\n",
       "      <th># Single</th>\n",
       "      <th># No Cars</th>\n",
       "      <th># Chinese</th>\n",
       "    </tr>\n",
       "  </thead>\n",
       "  <tbody>\n",
       "    <tr>\n",
       "      <th>0</th>\n",
       "      <td>10001</td>\n",
       "      <td>161227</td>\n",
       "      <td>6554</td>\n",
       "      <td>10193</td>\n",
       "      <td>2467</td>\n",
       "    </tr>\n",
       "    <tr>\n",
       "      <th>1</th>\n",
       "      <td>10002</td>\n",
       "      <td>65718</td>\n",
       "      <td>14219</td>\n",
       "      <td>27306</td>\n",
       "      <td>30774</td>\n",
       "    </tr>\n",
       "    <tr>\n",
       "      <th>2</th>\n",
       "      <td>10003</td>\n",
       "      <td>182531</td>\n",
       "      <td>15067</td>\n",
       "      <td>20895</td>\n",
       "      <td>3166</td>\n",
       "    </tr>\n",
       "    <tr>\n",
       "      <th>3</th>\n",
       "      <td>10004</td>\n",
       "      <td>191760</td>\n",
       "      <td>808</td>\n",
       "      <td>1287</td>\n",
       "      <td>381</td>\n",
       "    </tr>\n",
       "    <tr>\n",
       "      <th>4</th>\n",
       "      <td>10005</td>\n",
       "      <td>201734</td>\n",
       "      <td>1728</td>\n",
       "      <td>3538</td>\n",
       "      <td>699</td>\n",
       "    </tr>\n",
       "    <tr>\n",
       "      <th>5</th>\n",
       "      <td>10006</td>\n",
       "      <td>196771</td>\n",
       "      <td>881</td>\n",
       "      <td>1527</td>\n",
       "      <td>208</td>\n",
       "    </tr>\n",
       "    <tr>\n",
       "      <th>6</th>\n",
       "      <td>10007</td>\n",
       "      <td>376573</td>\n",
       "      <td>1029</td>\n",
       "      <td>1961</td>\n",
       "      <td>446</td>\n",
       "    </tr>\n",
       "    <tr>\n",
       "      <th>7</th>\n",
       "      <td>10008</td>\n",
       "      <td></td>\n",
       "      <td></td>\n",
       "      <td></td>\n",
       "      <td></td>\n",
       "    </tr>\n",
       "    <tr>\n",
       "      <th>8</th>\n",
       "      <td>10009</td>\n",
       "      <td>90253</td>\n",
       "      <td>14663</td>\n",
       "      <td>23906</td>\n",
       "      <td>4768</td>\n",
       "    </tr>\n",
       "    <tr>\n",
       "      <th>9</th>\n",
       "      <td>10010</td>\n",
       "      <td>177950</td>\n",
       "      <td>8178</td>\n",
       "      <td>12097</td>\n",
       "      <td>1537</td>\n",
       "    </tr>\n",
       "  </tbody>\n",
       "</table>\n",
       "</div>"
      ],
      "text/plain": [
       "  Zip Code Avg Income ($) # Single # No Cars # Chinese\n",
       "0    10001         161227     6554     10193      2467\n",
       "1    10002          65718    14219     27306     30774\n",
       "2    10003         182531    15067     20895      3166\n",
       "3    10004         191760      808      1287       381\n",
       "4    10005         201734     1728      3538       699\n",
       "5    10006         196771      881      1527       208\n",
       "6    10007         376573     1029      1961       446\n",
       "7    10008                                            \n",
       "8    10009          90253    14663     23906      4768\n",
       "9    10010         177950     8178     12097      1537"
      ]
     },
     "execution_count": 12,
     "metadata": {},
     "output_type": "execute_result"
    }
   ],
   "source": [
    "# output data frame with info added in new columns\n",
    "print(len(zipcodes_df))\n",
    "zipcodes_df.head(10)\n"
   ]
  },
  {
   "cell_type": "code",
   "execution_count": 14,
   "metadata": {},
   "outputs": [
    {
     "name": "stdout",
     "output_type": "stream",
     "text": [
      "1772\n"
     ]
    },
    {
     "data": {
      "text/html": [
       "<div>\n",
       "<style scoped>\n",
       "    .dataframe tbody tr th:only-of-type {\n",
       "        vertical-align: middle;\n",
       "    }\n",
       "\n",
       "    .dataframe tbody tr th {\n",
       "        vertical-align: top;\n",
       "    }\n",
       "\n",
       "    .dataframe thead th {\n",
       "        text-align: right;\n",
       "    }\n",
       "</style>\n",
       "<table border=\"1\" class=\"dataframe\">\n",
       "  <thead>\n",
       "    <tr style=\"text-align: right;\">\n",
       "      <th></th>\n",
       "      <th>Zip Code</th>\n",
       "      <th>Avg Income ($)</th>\n",
       "      <th># Single</th>\n",
       "      <th># No Cars</th>\n",
       "      <th># Chinese</th>\n",
       "    </tr>\n",
       "  </thead>\n",
       "  <tbody>\n",
       "    <tr>\n",
       "      <th>0</th>\n",
       "      <td>10001</td>\n",
       "      <td>161227</td>\n",
       "      <td>6554</td>\n",
       "      <td>10193</td>\n",
       "      <td>2467</td>\n",
       "    </tr>\n",
       "    <tr>\n",
       "      <th>1</th>\n",
       "      <td>10002</td>\n",
       "      <td>65718</td>\n",
       "      <td>14219</td>\n",
       "      <td>27306</td>\n",
       "      <td>30774</td>\n",
       "    </tr>\n",
       "    <tr>\n",
       "      <th>2</th>\n",
       "      <td>10003</td>\n",
       "      <td>182531</td>\n",
       "      <td>15067</td>\n",
       "      <td>20895</td>\n",
       "      <td>3166</td>\n",
       "    </tr>\n",
       "    <tr>\n",
       "      <th>3</th>\n",
       "      <td>10004</td>\n",
       "      <td>191760</td>\n",
       "      <td>808</td>\n",
       "      <td>1287</td>\n",
       "      <td>381</td>\n",
       "    </tr>\n",
       "    <tr>\n",
       "      <th>4</th>\n",
       "      <td>10005</td>\n",
       "      <td>201734</td>\n",
       "      <td>1728</td>\n",
       "      <td>3538</td>\n",
       "      <td>699</td>\n",
       "    </tr>\n",
       "    <tr>\n",
       "      <th>5</th>\n",
       "      <td>10006</td>\n",
       "      <td>196771</td>\n",
       "      <td>881</td>\n",
       "      <td>1527</td>\n",
       "      <td>208</td>\n",
       "    </tr>\n",
       "    <tr>\n",
       "      <th>6</th>\n",
       "      <td>10007</td>\n",
       "      <td>376573</td>\n",
       "      <td>1029</td>\n",
       "      <td>1961</td>\n",
       "      <td>446</td>\n",
       "    </tr>\n",
       "    <tr>\n",
       "      <th>8</th>\n",
       "      <td>10009</td>\n",
       "      <td>90253</td>\n",
       "      <td>14663</td>\n",
       "      <td>23906</td>\n",
       "      <td>4768</td>\n",
       "    </tr>\n",
       "    <tr>\n",
       "      <th>9</th>\n",
       "      <td>10010</td>\n",
       "      <td>177950</td>\n",
       "      <td>8178</td>\n",
       "      <td>12097</td>\n",
       "      <td>1537</td>\n",
       "    </tr>\n",
       "    <tr>\n",
       "      <th>10</th>\n",
       "      <td>10011</td>\n",
       "      <td>197050</td>\n",
       "      <td>16387</td>\n",
       "      <td>23073</td>\n",
       "      <td>2024</td>\n",
       "    </tr>\n",
       "  </tbody>\n",
       "</table>\n",
       "</div>"
      ],
      "text/plain": [
       "    Zip Code Avg Income ($) # Single # No Cars # Chinese\n",
       "0      10001         161227     6554     10193      2467\n",
       "1      10002          65718    14219     27306     30774\n",
       "2      10003         182531    15067     20895      3166\n",
       "3      10004         191760      808      1287       381\n",
       "4      10005         201734     1728      3538       699\n",
       "5      10006         196771      881      1527       208\n",
       "6      10007         376573     1029      1961       446\n",
       "8      10009          90253    14663     23906      4768\n",
       "9      10010         177950     8178     12097      1537\n",
       "10     10011         197050    16387     23073      2024"
      ]
     },
     "execution_count": 14,
     "metadata": {},
     "output_type": "execute_result"
    }
   ],
   "source": [
    "# drop rows with null values\n",
    "zipcodes_df.replace('', np.nan, inplace=True)\n",
    "operational_ny_df = zipcodes_df.dropna()\n",
    "print(len(operational_ny_df))\n",
    "operational_ny_df.head(10)\n"
   ]
  },
  {
   "cell_type": "code",
   "execution_count": 16,
   "metadata": {},
   "outputs": [
    {
     "data": {
      "text/plain": [
       "Zip Code           int64\n",
       "Avg Income ($)    object\n",
       "# Single          object\n",
       "# No Cars         object\n",
       "# Chinese         object\n",
       "dtype: object"
      ]
     },
     "execution_count": 16,
     "metadata": {},
     "output_type": "execute_result"
    }
   ],
   "source": [
    "# explore data types\n",
    "operational_ny_df.dtypes\n"
   ]
  },
  {
   "cell_type": "code",
   "execution_count": 21,
   "metadata": {},
   "outputs": [
    {
     "data": {
      "text/plain": [
       "Zip Code          int64\n",
       "Avg Income ($)    int64\n",
       "# Single          int64\n",
       "# No Cars         int64\n",
       "# Chinese         int64\n",
       "dtype: object"
      ]
     },
     "execution_count": 21,
     "metadata": {},
     "output_type": "execute_result"
    }
   ],
   "source": [
    "# convert data types \n",
    "operational_ny_df= operational_ny_df.astype({\"Avg Income ($)\": int, \n",
    "                                             \"# Single\": int, \n",
    "                                             \"# No Cars\": int, \n",
    "                                             \"# Chinese\": int})\n",
    "operational_ny_df.dtypes\n"
   ]
  },
  {
   "cell_type": "code",
   "execution_count": 22,
   "metadata": {},
   "outputs": [
    {
     "name": "stdout",
     "output_type": "stream",
     "text": [
      "Zip Code          1.270949e+04\n",
      "Avg Income ($)   -3.622324e+07\n",
      "# Single          1.211324e+03\n",
      "# No Cars         1.181729e+03\n",
      "# Chinese         3.972438e+02\n",
      "dtype: float64\n"
     ]
    }
   ],
   "source": [
    "# explore data\n",
    "\n",
    "print(operational_ny_df.mean())"
   ]
  },
  {
   "cell_type": "code",
   "execution_count": 25,
   "metadata": {},
   "outputs": [
    {
     "name": "stdout",
     "output_type": "stream",
     "text": [
      "1690\n"
     ]
    }
   ],
   "source": [
    "# mean above suggests there are major erroneous negative numbers in the income data\n",
    "# remove negative numbers from the dataframe\n",
    "clean_operational_ny_df = operational_ny_df[(operational_ny_df[\"Avg Income ($)\"]>=0) & \n",
    "                                           (operational_ny_df[\"# Single\"]>=0) & \n",
    "                                           (operational_ny_df[\"# No Cars\"]>=0) &\n",
    "                                           (operational_ny_df[\"# Chinese\"]>=0)]\n",
    "\n",
    "print(len(clean_operational_ny_df))"
   ]
  },
  {
   "cell_type": "code",
   "execution_count": 33,
   "metadata": {},
   "outputs": [],
   "source": [
    "# create a DF with just the zip codes and output to new CSV file for use in Yelp API searches\n",
    "clean_operational_ny_zip_codes = clean_operational_ny_df[\"Zip Code\"]\n",
    "clean_operational_ny_zip_codes.to_csv(\"clean_operational_ny_zips.csv\", \n",
    "                                      index=False, \n",
    "                                      header=True)\n"
   ]
  },
  {
   "cell_type": "code",
   "execution_count": null,
   "metadata": {},
   "outputs": [],
   "source": []
  }
 ],
 "metadata": {
  "kernelspec": {
   "display_name": "Python 3",
   "language": "python",
   "name": "python3"
  },
  "language_info": {
   "codemirror_mode": {
    "name": "ipython",
    "version": 3
   },
   "file_extension": ".py",
   "mimetype": "text/x-python",
   "name": "python",
   "nbconvert_exporter": "python",
   "pygments_lexer": "ipython3",
   "version": "3.7.3"
  }
 },
 "nbformat": 4,
 "nbformat_minor": 2
}
