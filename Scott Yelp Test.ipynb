{
 "cells": [
  {
   "cell_type": "code",
   "execution_count": 7,
   "metadata": {},
   "outputs": [
    {
     "name": "stdout",
     "output_type": "stream",
     "text": [
      "{'businesses': [{'id': 'b6jOwyX4iaagw8YjXqq1sA', 'alias': 'antonios-trattoria-bronx', 'name': \"Antonio's Trattoria\", 'image_url': 'https://s3-media3.fl.yelpcdn.com/bphoto/VnG_keQUb8r3ImEx4iInMw/o.jpg', 'is_closed': False, 'url': 'https://www.yelp.com/biz/antonios-trattoria-bronx?adjust_creative=dToBS55fmZT8LnIUjncGOQ&utm_campaign=yelp_api_v3&utm_medium=api_v3_business_search&utm_source=dToBS55fmZT8LnIUjncGOQ', 'review_count': 707, 'categories': [{'alias': 'italian', 'title': 'Italian'}, {'alias': 'pizza', 'title': 'Pizza'}, {'alias': 'desserts', 'title': 'Desserts'}], 'rating': 4.5, 'coordinates': {'latitude': 40.854131, 'longitude': -73.886601}, 'transactions': [], 'price': '$$', 'location': {'address1': '2370 Belmont Ave', 'address2': None, 'address3': '', 'city': 'Bronx', 'zip_code': '10458', 'country': 'US', 'state': 'NY', 'display_address': ['2370 Belmont Ave', 'Bronx, NY 10458']}, 'phone': '+17187336630', 'display_phone': '(718) 733-6630', 'distance': 1273.3117210895005}, {'id': 'I2XhY76Mmc6yTg-aSBBHfQ', 'alias': 'bronx-zoo-bronx', 'name': 'Bronx Zoo', 'image_url': 'https://s3-media3.fl.yelpcdn.com/bphoto/cCMb3049UR2hZGelxlid_g/o.jpg', 'is_closed': False, 'url': 'https://www.yelp.com/biz/bronx-zoo-bronx?adjust_creative=dToBS55fmZT8LnIUjncGOQ&utm_campaign=yelp_api_v3&utm_medium=api_v3_business_search&utm_source=dToBS55fmZT8LnIUjncGOQ', 'review_count': 972, 'categories': [{'alias': 'zoos', 'title': 'Zoos'}], 'rating': 4.0, 'coordinates': {'latitude': 40.8486991537725, 'longitude': -73.8822738371592}, 'transactions': [], 'location': {'address1': '2300 Southern Blvd', 'address2': '', 'address3': '', 'city': 'Bronx', 'zip_code': '10460', 'country': 'US', 'state': 'NY', 'display_address': ['2300 Southern Blvd', 'Bronx, NY 10460']}, 'phone': '+17182205100', 'display_phone': '(718) 220-5100', 'distance': 1377.5013352818623}, {'id': 'tLZfepIfSf0a80zHQTbTGQ', 'alias': 'trattoria-zero-otto-nove-bronx', 'name': 'Trattoria Zero Otto Nove', 'image_url': 'https://s3-media2.fl.yelpcdn.com/bphoto/lvghehU8tD0cYZgOmxbLWQ/o.jpg', 'is_closed': False, 'url': 'https://www.yelp.com/biz/trattoria-zero-otto-nove-bronx?adjust_creative=dToBS55fmZT8LnIUjncGOQ&utm_campaign=yelp_api_v3&utm_medium=api_v3_business_search&utm_source=dToBS55fmZT8LnIUjncGOQ', 'review_count': 707, 'categories': [{'alias': 'italian', 'title': 'Italian'}, {'alias': 'pizza', 'title': 'Pizza'}], 'rating': 4.0, 'coordinates': {'latitude': 40.8546515, 'longitude': -73.8883526}, 'transactions': [], 'price': '$$', 'location': {'address1': '2357 Arthur Ave', 'address2': '', 'address3': '', 'city': 'Bronx', 'zip_code': '10458', 'country': 'US', 'state': 'NY', 'display_address': ['2357 Arthur Ave', 'Bronx, NY 10458']}, 'phone': '+17182201027', 'display_phone': '(718) 220-1027', 'distance': 1200.9864584863312}, {'id': 'HeR2gHJbP5CN69UsVCtMGg', 'alias': 'new-york-botanical-garden-bronx', 'name': 'New York Botanical Garden', 'image_url': 'https://s3-media4.fl.yelpcdn.com/bphoto/6TZIAsaS86nJ0Jkky5SKGA/o.jpg', 'is_closed': False, 'url': 'https://www.yelp.com/biz/new-york-botanical-garden-bronx?adjust_creative=dToBS55fmZT8LnIUjncGOQ&utm_campaign=yelp_api_v3&utm_medium=api_v3_business_search&utm_source=dToBS55fmZT8LnIUjncGOQ', 'review_count': 635, 'categories': [{'alias': 'gardens', 'title': 'Botanical Gardens'}], 'rating': 4.5, 'coordinates': {'latitude': 40.8624081105702, 'longitude': -73.8769194420523}, 'transactions': [], 'location': {'address1': '2900 Southern Blvd', 'address2': '', 'address3': '', 'city': 'Bronx', 'zip_code': '10458', 'country': 'US', 'state': 'NY', 'display_address': ['2900 Southern Blvd', 'Bronx, NY 10458']}, 'phone': '+17188178700', 'display_phone': '(718) 817-8700', 'distance': 2491.9315399372995}, {'id': 'NNvdMOswZuJ0UUtpP1ievw', 'alias': 'casa-della-mozzarella-italian-deli-bronx', 'name': 'Casa Della Mozzarella Italian Deli', 'image_url': 'https://s3-media3.fl.yelpcdn.com/bphoto/d8trlVNsh7-kEmMZFjNTlA/o.jpg', 'is_closed': False, 'url': 'https://www.yelp.com/biz/casa-della-mozzarella-italian-deli-bronx?adjust_creative=dToBS55fmZT8LnIUjncGOQ&utm_campaign=yelp_api_v3&utm_medium=api_v3_business_search&utm_source=dToBS55fmZT8LnIUjncGOQ', 'review_count': 150, 'categories': [{'alias': 'delis', 'title': 'Delis'}, {'alias': 'cheese', 'title': 'Cheese Shops'}], 'rating': 4.5, 'coordinates': {'latitude': 40.85533, 'longitude': -73.88742}, 'transactions': [], 'price': '$$', 'location': {'address1': '604 E 187th St', 'address2': '', 'address3': '', 'city': 'Bronx', 'zip_code': '10458', 'country': 'US', 'state': 'NY', 'display_address': ['604 E 187th St', 'Bronx, NY 10458']}, 'phone': '+17183643867', 'display_phone': '(718) 364-3867', 'distance': 1310.8771729057667}, {'id': 'b9RW2YCriwuiC5x2Bs-E_Q', 'alias': 'madonia-brothers-bakery-bronx', 'name': 'Madonia Brothers Bakery', 'image_url': 'https://s3-media3.fl.yelpcdn.com/bphoto/xZ74D2ReukvMdIPMQyth7A/o.jpg', 'is_closed': False, 'url': 'https://www.yelp.com/biz/madonia-brothers-bakery-bronx?adjust_creative=dToBS55fmZT8LnIUjncGOQ&utm_campaign=yelp_api_v3&utm_medium=api_v3_business_search&utm_source=dToBS55fmZT8LnIUjncGOQ', 'review_count': 227, 'categories': [{'alias': 'bakeries', 'title': 'Bakeries'}], 'rating': 4.5, 'coordinates': {'latitude': 40.85438, 'longitude': -73.8884099}, 'transactions': [], 'price': '$', 'location': {'address1': '2348 Arthur Ave', 'address2': '', 'address3': '', 'city': 'Bronx', 'zip_code': '10458', 'country': 'US', 'state': 'NY', 'display_address': ['2348 Arthur Ave', 'Bronx, NY 10458']}, 'phone': '+17182955573', 'display_phone': '(718) 295-5573', 'distance': 1184.8397179856102}, {'id': 'NJoZ9hHepDa5WmcRH2rczA', 'alias': 'mikes-deli-arthur-avenue-bronx', 'name': \"Mike's Deli Arthur Avenue\", 'image_url': 'https://s3-media1.fl.yelpcdn.com/bphoto/6Du0s-Tms4TqUVXPChe9Yw/o.jpg', 'is_closed': False, 'url': 'https://www.yelp.com/biz/mikes-deli-arthur-avenue-bronx?adjust_creative=dToBS55fmZT8LnIUjncGOQ&utm_campaign=yelp_api_v3&utm_medium=api_v3_business_search&utm_source=dToBS55fmZT8LnIUjncGOQ', 'review_count': 201, 'categories': [{'alias': 'catering', 'title': 'Caterers'}, {'alias': 'delis', 'title': 'Delis'}, {'alias': 'pastashops', 'title': 'Pasta Shops'}], 'rating': 4.0, 'coordinates': {'latitude': 40.85416, 'longitude': -73.88817}, 'transactions': ['delivery', 'pickup'], 'price': '$$', 'location': {'address1': '2344 Arthur Ave', 'address2': '', 'address3': '', 'city': 'Bronx', 'zip_code': '10458', 'country': 'US', 'state': 'NY', 'display_address': ['2344 Arthur Ave', 'Bronx, NY 10458']}, 'phone': '+17182955033', 'display_phone': '(718) 295-5033', 'distance': 1173.8673945036514}, {'id': '59hEst-eXa_psEtiZMLU6A', 'alias': 'joes-italian-deli-bronx-3', 'name': \"Joe's Italian Deli\", 'image_url': 'https://s3-media1.fl.yelpcdn.com/bphoto/edTubvPsN3YUoll9dx0WYw/o.jpg', 'is_closed': False, 'url': 'https://www.yelp.com/biz/joes-italian-deli-bronx-3?adjust_creative=dToBS55fmZT8LnIUjncGOQ&utm_campaign=yelp_api_v3&utm_medium=api_v3_business_search&utm_source=dToBS55fmZT8LnIUjncGOQ', 'review_count': 102, 'categories': [{'alias': 'delis', 'title': 'Delis'}, {'alias': 'catering', 'title': 'Caterers'}, {'alias': 'cheese', 'title': 'Cheese Shops'}], 'rating': 5.0, 'coordinates': {'latitude': 40.8544073, 'longitude': -73.8848751}, 'transactions': ['pickup'], 'price': '$$', 'location': {'address1': '685 E 187th St', 'address2': None, 'address3': '', 'city': 'Bronx', 'zip_code': '10458', 'country': 'US', 'state': 'NY', 'display_address': ['685 E 187th St', 'Bronx, NY 10458']}, 'phone': '+17183677979', 'display_phone': '(718) 367-7979', 'distance': 1417.0591454785656}, {'id': 'Lesv5BG0_0-8bB49cAjMkg', 'alias': 'robertos-bronx', 'name': \"Roberto's\", 'image_url': 'https://s3-media1.fl.yelpcdn.com/bphoto/n7UMMkuFMPJnpR89TdnRvw/o.jpg', 'is_closed': False, 'url': 'https://www.yelp.com/biz/robertos-bronx?adjust_creative=dToBS55fmZT8LnIUjncGOQ&utm_campaign=yelp_api_v3&utm_medium=api_v3_business_search&utm_source=dToBS55fmZT8LnIUjncGOQ', 'review_count': 241, 'categories': [{'alias': 'italian', 'title': 'Italian'}], 'rating': 4.0, 'coordinates': {'latitude': 40.85372, 'longitude': -73.88834}, 'transactions': [], 'price': '$$$', 'location': {'address1': '603 Crescent Ave', 'address2': '', 'address3': '', 'city': 'Bronx', 'zip_code': '10458', 'country': 'US', 'state': 'NY', 'display_address': ['603 Crescent Ave', 'Bronx, NY 10458']}, 'phone': '+17187339503', 'display_phone': '(718) 733-9503', 'distance': 1128.185222921385}, {'id': '3uyBZNbDk2vRFBBWZOdIUA', 'alias': 'dominicks-restaurant-bronx', 'name': \"Dominick's Restaurant\", 'image_url': 'https://s3-media2.fl.yelpcdn.com/bphoto/Hue6R4lk2vL6zC49VReQTg/o.jpg', 'is_closed': False, 'url': 'https://www.yelp.com/biz/dominicks-restaurant-bronx?adjust_creative=dToBS55fmZT8LnIUjncGOQ&utm_campaign=yelp_api_v3&utm_medium=api_v3_business_search&utm_source=dToBS55fmZT8LnIUjncGOQ', 'review_count': 319, 'categories': [{'alias': 'italian', 'title': 'Italian'}], 'rating': 4.0, 'coordinates': {'latitude': 40.85434, 'longitude': -73.889}, 'transactions': [], 'price': '$$', 'location': {'address1': '2335 Arthur Ave', 'address2': '', 'address3': '', 'city': 'Bronx', 'zip_code': '10458', 'country': 'US', 'state': 'NY', 'display_address': ['2335 Arthur Ave', 'Bronx, NY 10458']}, 'phone': '+17187332807', 'display_phone': '(718) 733-2807', 'distance': 1141.3155071926979}, {'id': 'wlSnmuUnBMz8qYpxDVBGlw', 'alias': 'full-moon-pizzeria-bronx', 'name': 'Full Moon Pizzeria', 'image_url': 'https://s3-media2.fl.yelpcdn.com/bphoto/eOXmTILK7_v2HdNjOo0vYg/o.jpg', 'is_closed': False, 'url': 'https://www.yelp.com/biz/full-moon-pizzeria-bronx?adjust_creative=dToBS55fmZT8LnIUjncGOQ&utm_campaign=yelp_api_v3&utm_medium=api_v3_business_search&utm_source=dToBS55fmZT8LnIUjncGOQ', 'review_count': 248, 'categories': [{'alias': 'pizza', 'title': 'Pizza'}], 'rating': 4.0, 'coordinates': {'latitude': 40.85539, 'longitude': -73.88753}, 'transactions': [], 'price': '$', 'location': {'address1': '600 E 187th St', 'address2': '', 'address3': '', 'city': 'Bronx', 'zip_code': '10458', 'country': 'US', 'state': 'NY', 'display_address': ['600 E 187th St', 'Bronx, NY 10458']}, 'phone': '+17185843451', 'display_phone': '(718) 584-3451', 'distance': 1297.4457327115383}, {'id': 'mA07WPkSboPIgwwniQkaQg', 'alias': 'ginos-pastry-shop-bronx', 'name': \"Gino's Pastry Shop\", 'image_url': 'https://s3-media4.fl.yelpcdn.com/bphoto/vkoBHI3ov7-IYAPsfUXk7w/o.jpg', 'is_closed': False, 'url': 'https://www.yelp.com/biz/ginos-pastry-shop-bronx?adjust_creative=dToBS55fmZT8LnIUjncGOQ&utm_campaign=yelp_api_v3&utm_medium=api_v3_business_search&utm_source=dToBS55fmZT8LnIUjncGOQ', 'review_count': 74, 'categories': [{'alias': 'bakeries', 'title': 'Bakeries'}, {'alias': 'desserts', 'title': 'Desserts'}], 'rating': 4.5, 'coordinates': {'latitude': 40.855648, 'longitude': -73.88819}, 'transactions': [], 'price': '$$', 'location': {'address1': '580 E 187th St', 'address2': '', 'address3': '', 'city': 'Bronx', 'zip_code': '10458', 'country': 'US', 'state': 'NY', 'display_address': ['580 E 187th St', 'Bronx, NY 10458']}, 'phone': '+17185843558', 'display_phone': '(718) 584-3558', 'distance': 1292.9530032551015}, {'id': 'wfdCJaLqVjzhP6UO5BG15w', 'alias': 'tinos-delicatessen-bronx', 'name': \"Tino's Delicatessen\", 'image_url': 'https://s3-media4.fl.yelpcdn.com/bphoto/n19qHi3ovPeoa1geoqsVzw/o.jpg', 'is_closed': False, 'url': 'https://www.yelp.com/biz/tinos-delicatessen-bronx?adjust_creative=dToBS55fmZT8LnIUjncGOQ&utm_campaign=yelp_api_v3&utm_medium=api_v3_business_search&utm_source=dToBS55fmZT8LnIUjncGOQ', 'review_count': 176, 'categories': [{'alias': 'delis', 'title': 'Delis'}, {'alias': 'cheese', 'title': 'Cheese Shops'}], 'rating': 4.0, 'coordinates': {'latitude': 40.855761, 'longitude': -73.887075}, 'transactions': [], 'price': '$$', 'location': {'address1': '2410 Arthur Ave', 'address2': '', 'address3': '', 'city': 'Bronx', 'zip_code': '10458', 'country': 'US', 'state': 'NY', 'display_address': ['2410 Arthur Ave', 'Bronx, NY 10458']}, 'phone': '+17187339879', 'display_phone': '(718) 733-9879', 'distance': 1365.4084081072851}, {'id': 'ZhjRaJkfCIVopvamUzrEsA', 'alias': 'san-gennaro-trattoria-restaurant-bar-west-bronx', 'name': 'San Gennaro Trattoria Restaurant Bar', 'image_url': 'https://s3-media3.fl.yelpcdn.com/bphoto/dHo1A8LbzGS5Bd01XF4-wg/o.jpg', 'is_closed': False, 'url': 'https://www.yelp.com/biz/san-gennaro-trattoria-restaurant-bar-west-bronx?adjust_creative=dToBS55fmZT8LnIUjncGOQ&utm_campaign=yelp_api_v3&utm_medium=api_v3_business_search&utm_source=dToBS55fmZT8LnIUjncGOQ', 'review_count': 139, 'categories': [{'alias': 'italian', 'title': 'Italian'}, {'alias': 'mediterranean', 'title': 'Mediterranean'}], 'rating': 4.0, 'coordinates': {'latitude': 40.8540465225016, 'longitude': -73.8889484480023}, 'transactions': ['delivery', 'pickup'], 'price': '$$', 'location': {'address1': '2329 Arthur Ave', 'address2': '', 'address3': '', 'city': 'West Bronx', 'zip_code': '10458', 'country': 'US', 'state': 'NY', 'display_address': ['2329 Arthur Ave', 'West Bronx, NY 10458']}, 'phone': '+17185620129', 'display_phone': '(718) 562-0129', 'distance': 1118.1249524422715}, {'id': 'CI9RYUjDdYS7GXL08tI9Cw', 'alias': 'artuso-pastry-shop-bronx', 'name': 'Artuso Pastry Shop', 'image_url': 'https://s3-media3.fl.yelpcdn.com/bphoto/uWhYki79qIqJP59l9c-GzA/o.jpg', 'is_closed': False, 'url': 'https://www.yelp.com/biz/artuso-pastry-shop-bronx?adjust_creative=dToBS55fmZT8LnIUjncGOQ&utm_campaign=yelp_api_v3&utm_medium=api_v3_business_search&utm_source=dToBS55fmZT8LnIUjncGOQ', 'review_count': 133, 'categories': [{'alias': 'bakeries', 'title': 'Bakeries'}], 'rating': 4.0, 'coordinates': {'latitude': 40.8542, 'longitude': -73.88506}, 'transactions': [], 'price': '$$', 'location': {'address1': '670 E 187th St', 'address2': '', 'address3': '', 'city': 'Bronx', 'zip_code': '10458', 'country': 'US', 'state': 'NY', 'display_address': ['670 E 187th St', 'Bronx, NY 10458']}, 'phone': '+17183672515', 'display_phone': '(718) 367-2515', 'distance': 1381.852499714634}, {'id': 'vWa8iPUYDGAMSBCqMwJylQ', 'alias': 'mangipasta-bronx', 'name': 'MangiPasta', 'image_url': 'https://s3-media3.fl.yelpcdn.com/bphoto/7_jlmWyWCMqPgU48p3Hkdg/o.jpg', 'is_closed': False, 'url': 'https://www.yelp.com/biz/mangipasta-bronx?adjust_creative=dToBS55fmZT8LnIUjncGOQ&utm_campaign=yelp_api_v3&utm_medium=api_v3_business_search&utm_source=dToBS55fmZT8LnIUjncGOQ', 'review_count': 57, 'categories': [{'alias': 'italian', 'title': 'Italian'}], 'rating': 4.5, 'coordinates': {'latitude': 40.85527, 'longitude': -73.88731}, 'transactions': ['delivery', 'pickup'], 'location': {'address1': '608 E 187th St', 'address2': None, 'address3': '', 'city': 'Bronx', 'zip_code': '10458', 'country': 'US', 'state': 'NY', 'display_address': ['608 E 187th St', 'Bronx, NY 10458']}, 'phone': '+17189330100', 'display_phone': '(718) 933-0100', 'distance': 1302.260893517855}, {'id': 'FaebPpZ8fKuvPtMOZ_dslw', 'alias': 'estrellita-poblana-iii-bronx', 'name': 'Estrellita Poblana III', 'image_url': 'https://s3-media1.fl.yelpcdn.com/bphoto/ERrJAcDpPwWnqQdwoyVYQg/o.jpg', 'is_closed': False, 'url': 'https://www.yelp.com/biz/estrellita-poblana-iii-bronx?adjust_creative=dToBS55fmZT8LnIUjncGOQ&utm_campaign=yelp_api_v3&utm_medium=api_v3_business_search&utm_source=dToBS55fmZT8LnIUjncGOQ', 'review_count': 149, 'categories': [{'alias': 'mexican', 'title': 'Mexican'}], 'rating': 4.0, 'coordinates': {'latitude': 40.853828, 'longitude': -73.888672}, 'transactions': ['delivery', 'pickup'], 'price': '$$', 'location': {'address1': '2328 Arthur Ave', 'address2': 'Ste 5', 'address3': '', 'city': 'Bronx', 'zip_code': '10458', 'country': 'US', 'state': 'NY', 'display_address': ['2328 Arthur Ave', 'Ste 5', 'Bronx, NY 10458']}, 'phone': '+17182207641', 'display_phone': '(718) 220-7641', 'distance': 1118.1369934807742}, {'id': 't1_qBEjXscQn-mp6-or_sw', 'alias': 'suyo-gastrofusion-bronx', 'name': 'Suyo Gastrofusion', 'image_url': 'https://s3-media3.fl.yelpcdn.com/bphoto/iRmmoXuD-SWZWEnURcgMhQ/o.jpg', 'is_closed': False, 'url': 'https://www.yelp.com/biz/suyo-gastrofusion-bronx?adjust_creative=dToBS55fmZT8LnIUjncGOQ&utm_campaign=yelp_api_v3&utm_medium=api_v3_business_search&utm_source=dToBS55fmZT8LnIUjncGOQ', 'review_count': 104, 'categories': [{'alias': 'asianfusion', 'title': 'Asian Fusion'}, {'alias': 'latin', 'title': 'Latin American'}, {'alias': 'cocktailbars', 'title': 'Cocktail Bars'}], 'rating': 4.5, 'coordinates': {'latitude': 40.840872, 'longitude': -73.918271}, 'transactions': [], 'price': '$$', 'location': {'address1': '1401 Plaza Dr', 'address2': None, 'address3': '', 'city': 'Bronx', 'zip_code': '10452', 'country': 'US', 'state': 'NY', 'display_address': ['1401 Plaza Dr', 'Bronx, NY 10452']}, 'phone': '+17185377896', 'display_phone': '(718) 537-7896', 'distance': 1799.2325522042274}, {'id': 'gCvZQVz9EVyW3oTBD26Few', 'alias': 'cerini-coffee-and-gifts-bronx', 'name': 'Cerini Coffee & Gifts', 'image_url': 'https://s3-media2.fl.yelpcdn.com/bphoto/pF0-i2UpaP2XvW1YMA33bA/o.jpg', 'is_closed': False, 'url': 'https://www.yelp.com/biz/cerini-coffee-and-gifts-bronx?adjust_creative=dToBS55fmZT8LnIUjncGOQ&utm_campaign=yelp_api_v3&utm_medium=api_v3_business_search&utm_source=dToBS55fmZT8LnIUjncGOQ', 'review_count': 56, 'categories': [{'alias': 'coffeeroasteries', 'title': 'Coffee Roasteries'}, {'alias': 'kitchensupplies', 'title': 'Kitchen Supplies'}], 'rating': 5.0, 'coordinates': {'latitude': 40.854, 'longitude': -73.8887}, 'transactions': [], 'price': '$$', 'location': {'address1': '2334 Arthur Ave', 'address2': '', 'address3': '', 'city': 'Bronx', 'zip_code': '10458', 'country': 'US', 'state': 'NY', 'display_address': ['2334 Arthur Ave', 'Bronx, NY 10458']}, 'phone': '+17185843449', 'display_phone': '(718) 584-3449', 'distance': 1129.7012187293797}, {'id': 'HaXbpA8etMMiqqFNYoltTg', 'alias': 'pugsleys-pizza-bronx', 'name': \"Pugsley's Pizza\", 'image_url': 'https://s3-media4.fl.yelpcdn.com/bphoto/j3l0zJmL0TZxdtyxdP4iSA/o.jpg', 'is_closed': False, 'url': 'https://www.yelp.com/biz/pugsleys-pizza-bronx?adjust_creative=dToBS55fmZT8LnIUjncGOQ&utm_campaign=yelp_api_v3&utm_medium=api_v3_business_search&utm_source=dToBS55fmZT8LnIUjncGOQ', 'review_count': 130, 'categories': [{'alias': 'pizza', 'title': 'Pizza'}], 'rating': 4.5, 'coordinates': {'latitude': 40.85881, 'longitude': -73.88475}, 'transactions': [], 'price': '$', 'location': {'address1': '590 E 191st St', 'address2': '', 'address3': '', 'city': 'Bronx', 'zip_code': '10458', 'country': 'US', 'state': 'NY', 'display_address': ['590 E 191st St', 'Bronx, NY 10458']}, 'phone': '+17183650327', 'display_phone': '(718) 365-0327', 'distance': 1737.131814596963}, {'id': 'mkS--Oq4UYJMQizSaKJXEw', 'alias': 'enzos-of-arthur-avenue-bronx-2', 'name': 'Enzos of Arthur Avenue', 'image_url': 'https://s3-media3.fl.yelpcdn.com/bphoto/BE8WOe5lJbw6mMX0gq5wAg/o.jpg', 'is_closed': False, 'url': 'https://www.yelp.com/biz/enzos-of-arthur-avenue-bronx-2?adjust_creative=dToBS55fmZT8LnIUjncGOQ&utm_campaign=yelp_api_v3&utm_medium=api_v3_business_search&utm_source=dToBS55fmZT8LnIUjncGOQ', 'review_count': 220, 'categories': [{'alias': 'italian', 'title': 'Italian'}], 'rating': 3.5, 'coordinates': {'latitude': 40.8543499, 'longitude': -73.8887699}, 'transactions': [], 'price': '$$', 'location': {'address1': '2339 Arthur Ave', 'address2': None, 'address3': '', 'city': 'Bronx', 'zip_code': '10458', 'country': 'US', 'state': 'NY', 'display_address': ['2339 Arthur Ave', 'Bronx, NY 10458']}, 'phone': '+17187334455', 'display_phone': '(718) 733-4455', 'distance': 1157.3302051533187}, {'id': '2O5w-15_AVnnVJEtlWWE_A', 'alias': 'clinton-hall-bronx-4', 'name': 'Clinton Hall', 'image_url': 'https://s3-media2.fl.yelpcdn.com/bphoto/-NQBAB969R87Vy3Xnr6teQ/o.jpg', 'is_closed': False, 'url': 'https://www.yelp.com/biz/clinton-hall-bronx-4?adjust_creative=dToBS55fmZT8LnIUjncGOQ&utm_campaign=yelp_api_v3&utm_medium=api_v3_business_search&utm_source=dToBS55fmZT8LnIUjncGOQ', 'review_count': 134, 'categories': [{'alias': 'beergardens', 'title': 'Beer Gardens'}, {'alias': 'newamerican', 'title': 'American (New)'}, {'alias': 'bars', 'title': 'Bars'}], 'rating': 4.0, 'coordinates': {'latitude': 40.85735, 'longitude': -73.88574}, 'transactions': ['delivery', 'pickup'], 'price': '$$', 'location': {'address1': '601 E 189th St', 'address2': None, 'address3': '', 'city': 'Bronx', 'zip_code': '10458', 'country': 'US', 'state': 'NY', 'display_address': ['601 E 189th St', 'Bronx, NY 10458']}, 'phone': '+17182206400', 'display_phone': '(718) 220-6400', 'distance': 1575.1791490816502}, {'id': '9lDqOfKeEB15AWfsWIq8mA', 'alias': 'marios-restaurant-bronx-2', 'name': \"Mario's Restaurant\", 'image_url': 'https://s3-media3.fl.yelpcdn.com/bphoto/aMQLpI7y65AiVSvkde4Kaw/o.jpg', 'is_closed': False, 'url': 'https://www.yelp.com/biz/marios-restaurant-bronx-2?adjust_creative=dToBS55fmZT8LnIUjncGOQ&utm_campaign=yelp_api_v3&utm_medium=api_v3_business_search&utm_source=dToBS55fmZT8LnIUjncGOQ', 'review_count': 203, 'categories': [{'alias': 'italian', 'title': 'Italian'}], 'rating': 3.5, 'coordinates': {'latitude': 40.8542, 'longitude': -73.88857}, 'transactions': [], 'price': '$$', 'location': {'address1': '2342 Arthur Ave', 'address2': '', 'address3': '', 'city': 'Bronx', 'zip_code': '10458', 'country': 'US', 'state': 'NY', 'display_address': ['2342 Arthur Ave', 'Bronx, NY 10458']}, 'phone': '+17185841188', 'display_phone': '(718) 584-1188', 'distance': 1157.477990743684}, {'id': '3xd4L_TdfdhuCjAzJecs6A', 'alias': 'michaelangelos-little-italy-bronx-3', 'name': \"Michaelangelo's Little Italy\", 'image_url': 'https://s3-media3.fl.yelpcdn.com/bphoto/qU_x7WfJkMElZuuT8fthDw/o.jpg', 'is_closed': False, 'url': 'https://www.yelp.com/biz/michaelangelos-little-italy-bronx-3?adjust_creative=dToBS55fmZT8LnIUjncGOQ&utm_campaign=yelp_api_v3&utm_medium=api_v3_business_search&utm_source=dToBS55fmZT8LnIUjncGOQ', 'review_count': 196, 'categories': [{'alias': 'lounges', 'title': 'Lounges'}, {'alias': 'italian', 'title': 'Italian'}, {'alias': 'wine_bars', 'title': 'Wine Bars'}], 'rating': 4.0, 'coordinates': {'latitude': 40.8573321267268, 'longitude': -73.8862630999689}, 'transactions': ['delivery', 'pickup'], 'price': '$$', 'location': {'address1': '2477 Arthur Ave', 'address2': None, 'address3': None, 'city': 'Bronx', 'zip_code': '10458', 'country': 'US', 'state': 'NY', 'display_address': ['2477 Arthur Ave', 'Bronx, NY 10458']}, 'phone': '+17182208355', 'display_phone': '(718) 220-8355', 'distance': 1538.0604391631985}, {'id': 'hLm1vXfAKuSOgAtBA-vO7w', 'alias': 'çka-ka-qëllu-bronx', 'name': 'ÇKA KA QËLLU', 'image_url': 'https://s3-media2.fl.yelpcdn.com/bphoto/zd9yYzhFx8KHopPTkGJKXg/o.jpg', 'is_closed': False, 'url': 'https://www.yelp.com/biz/%C3%A7ka-ka-q%C3%ABllu-bronx?adjust_creative=dToBS55fmZT8LnIUjncGOQ&utm_campaign=yelp_api_v3&utm_medium=api_v3_business_search&utm_source=dToBS55fmZT8LnIUjncGOQ', 'review_count': 51, 'categories': [{'alias': 'modern_european', 'title': 'Modern European'}], 'rating': 4.5, 'coordinates': {'latitude': 40.8538017786913, 'longitude': -73.8882422081079}, 'transactions': ['delivery', 'pickup'], 'location': {'address1': '2321 Hughes Ave', 'address2': '', 'address3': None, 'city': 'Bronx', 'zip_code': '10458', 'country': 'US', 'state': 'NY', 'display_address': ['2321 Hughes Ave', 'Bronx, NY 10458']}, 'phone': '+17189336194', 'display_phone': '(718) 933-6194', 'distance': 1143.5393748641206}, {'id': 'mw83N2MnZzylMCH-QvcstA', 'alias': 'delillo-pastry-shop-bronx', 'name': 'DeLillo Pastry Shop', 'image_url': 'https://s3-media2.fl.yelpcdn.com/bphoto/xjawvwI07GJeyBFiD_7Q9w/o.jpg', 'is_closed': False, 'url': 'https://www.yelp.com/biz/delillo-pastry-shop-bronx?adjust_creative=dToBS55fmZT8LnIUjncGOQ&utm_campaign=yelp_api_v3&utm_medium=api_v3_business_search&utm_source=dToBS55fmZT8LnIUjncGOQ', 'review_count': 148, 'categories': [{'alias': 'bakeries', 'title': 'Bakeries'}, {'alias': 'coffee', 'title': 'Coffee & Tea'}, {'alias': 'desserts', 'title': 'Desserts'}], 'rating': 4.0, 'coordinates': {'latitude': 40.85531, 'longitude': -73.8873799}, 'transactions': [], 'price': '$$', 'location': {'address1': '606 E 187th St', 'address2': '', 'address3': '', 'city': 'Bronx', 'zip_code': '10458', 'country': 'US', 'state': 'NY', 'display_address': ['606 E 187th St', 'Bronx, NY 10458']}, 'phone': '+17183678198', 'display_phone': '(718) 367-8198', 'distance': 1310.4068418589063}, {'id': 'LwcU6zlJxkQdmb3Fl53NKw', 'alias': 'prince-coffee-house-bronx', 'name': 'Prince Coffee House', 'image_url': 'https://s3-media1.fl.yelpcdn.com/bphoto/7i8wOLpuHU-jtdatI85anw/o.jpg', 'is_closed': False, 'url': 'https://www.yelp.com/biz/prince-coffee-house-bronx?adjust_creative=dToBS55fmZT8LnIUjncGOQ&utm_campaign=yelp_api_v3&utm_medium=api_v3_business_search&utm_source=dToBS55fmZT8LnIUjncGOQ', 'review_count': 91, 'categories': [{'alias': 'coffee', 'title': 'Coffee & Tea'}], 'rating': 4.0, 'coordinates': {'latitude': 40.85361, 'longitude': -73.88898}, 'transactions': [], 'price': '$$', 'location': {'address1': '2306 Arthur Ave', 'address2': '', 'address3': '', 'city': 'Bronx', 'zip_code': '10458', 'country': 'US', 'state': 'NY', 'display_address': ['2306 Arthur Ave', 'Bronx, NY 10458']}, 'phone': '+16468751868', 'display_phone': '(646) 875-1868', 'distance': 1085.6112868626753}, {'id': 'eht_0com4C1sQbl9qCzlag', 'alias': 'hungry-bird-bronx-2', 'name': 'Hungry Bird', 'image_url': 'https://s3-media2.fl.yelpcdn.com/bphoto/R_tyXGEGsQNTNHGS0DU3ng/o.jpg', 'is_closed': False, 'url': 'https://www.yelp.com/biz/hungry-bird-bronx-2?adjust_creative=dToBS55fmZT8LnIUjncGOQ&utm_campaign=yelp_api_v3&utm_medium=api_v3_business_search&utm_source=dToBS55fmZT8LnIUjncGOQ', 'review_count': 181, 'categories': [{'alias': 'indpak', 'title': 'Indian'}, {'alias': 'salad', 'title': 'Salad'}, {'alias': 'soup', 'title': 'Soup'}], 'rating': 4.5, 'coordinates': {'latitude': 40.82847, 'longitude': -73.91669}, 'transactions': ['delivery', 'pickup'], 'price': '$$', 'location': {'address1': '980 Morris Ave', 'address2': '', 'address3': '', 'city': 'Bronx', 'zip_code': '10456', 'country': 'US', 'state': 'NY', 'display_address': ['980 Morris Ave', 'Bronx, NY 10456']}, 'phone': '+19178014900', 'display_phone': '(917) 801-4900', 'distance': 2556.760265781618}, {'id': 'nTCFXqiQPTvDfnAxHfA64A', 'alias': 'trattoria-tra-di-noi-bronx', 'name': 'Trattoria Tra di Noi', 'image_url': 'https://s3-media3.fl.yelpcdn.com/bphoto/lmNfmefiopiW2Z4hMfkEJw/o.jpg', 'is_closed': False, 'url': 'https://www.yelp.com/biz/trattoria-tra-di-noi-bronx?adjust_creative=dToBS55fmZT8LnIUjncGOQ&utm_campaign=yelp_api_v3&utm_medium=api_v3_business_search&utm_source=dToBS55fmZT8LnIUjncGOQ', 'review_count': 130, 'categories': [{'alias': 'italian', 'title': 'Italian'}], 'rating': 4.0, 'coordinates': {'latitude': 40.85493, 'longitude': -73.8869}, 'transactions': [], 'price': '$$', 'location': {'address1': '622 East 187th St', 'address2': '', 'address3': '', 'city': 'Bronx', 'zip_code': '10458', 'country': 'US', 'state': 'NY', 'display_address': ['622 East 187th St', 'Bronx, NY 10458']}, 'phone': '+17182951784', 'display_phone': '(718) 295-1784', 'distance': 1312.612958410426}, {'id': 'WDVzL34VpkiYOtknS-NpWQ', 'alias': 'emilias-restaurant-bronx', 'name': \"Emilia's Restaurant\", 'image_url': 'https://s3-media4.fl.yelpcdn.com/bphoto/ICj5bfpiR_kJIYH3ui95Lw/o.jpg', 'is_closed': False, 'url': 'https://www.yelp.com/biz/emilias-restaurant-bronx?adjust_creative=dToBS55fmZT8LnIUjncGOQ&utm_campaign=yelp_api_v3&utm_medium=api_v3_business_search&utm_source=dToBS55fmZT8LnIUjncGOQ', 'review_count': 163, 'categories': [{'alias': 'italian', 'title': 'Italian'}], 'rating': 3.5, 'coordinates': {'latitude': 40.85415, 'longitude': -73.88894}, 'transactions': [], 'price': '$$', 'location': {'address1': '2331 Arthur Ave', 'address2': '', 'address3': '', 'city': 'Bronx', 'zip_code': '10458', 'country': 'US', 'state': 'NY', 'display_address': ['2331 Arthur Ave', 'Bronx, NY 10458']}, 'phone': '+17183675915', 'display_phone': '(718) 367-5915', 'distance': 1120.4846791915977}, {'id': 'NT1dPxaAfGpdAcz4ir-Flw', 'alias': 'pizza-studio-bronx', 'name': 'Pizza Studio', 'image_url': 'https://s3-media1.fl.yelpcdn.com/bphoto/ti8kP4jPNsrsNXzaaVMomQ/o.jpg', 'is_closed': False, 'url': 'https://www.yelp.com/biz/pizza-studio-bronx?adjust_creative=dToBS55fmZT8LnIUjncGOQ&utm_campaign=yelp_api_v3&utm_medium=api_v3_business_search&utm_source=dToBS55fmZT8LnIUjncGOQ', 'review_count': 75, 'categories': [{'alias': 'pizza', 'title': 'Pizza'}], 'rating': 4.5, 'coordinates': {'latitude': 40.8609749, 'longitude': -73.8900679}, 'transactions': ['delivery', 'pickup'], 'price': '$', 'location': {'address1': '444 E. Fordham Rd.', 'address2': '', 'address3': '', 'city': 'Bronx', 'zip_code': '10458', 'country': 'US', 'state': 'NY', 'display_address': ['444 E. Fordham Rd.', 'Bronx, NY 10458']}, 'phone': '+17182156820', 'display_phone': '(718) 215-6820', 'distance': 1702.5184883863396}, {'id': 'zEHzdRjEa23tcH585_SqHw', 'alias': 'the-bronx-beer-hall-bronx', 'name': 'The Bronx Beer Hall', 'image_url': 'https://s3-media2.fl.yelpcdn.com/bphoto/ZmMbuf1YTCi93GgFErwL-w/o.jpg', 'is_closed': False, 'url': 'https://www.yelp.com/biz/the-bronx-beer-hall-bronx?adjust_creative=dToBS55fmZT8LnIUjncGOQ&utm_campaign=yelp_api_v3&utm_medium=api_v3_business_search&utm_source=dToBS55fmZT8LnIUjncGOQ', 'review_count': 141, 'categories': [{'alias': 'newamerican', 'title': 'American (New)'}, {'alias': 'pubs', 'title': 'Pubs'}, {'alias': 'beer_and_wine', 'title': 'Beer, Wine & Spirits'}], 'rating': 3.5, 'coordinates': {'latitude': 40.854118, 'longitude': -73.888175}, 'transactions': [], 'price': '$$', 'location': {'address1': '2344 Arthur Ave', 'address2': '', 'address3': '', 'city': 'Bronx', 'zip_code': '10458', 'country': 'US', 'state': 'NY', 'display_address': ['2344 Arthur Ave', 'Bronx, NY 10458']}, 'phone': '+13473960555', 'display_phone': '(347) 396-0555', 'distance': 1174.072410302065}, {'id': 'TSj3yJCHBMEQ0caKtMX9ng', 'alias': 'gerbasi-ristorante-bronx', 'name': 'Gerbasi Ristorante', 'image_url': 'https://s3-media3.fl.yelpcdn.com/bphoto/hDiSAryVnr-H6-JfKJ0sbA/o.jpg', 'is_closed': False, 'url': 'https://www.yelp.com/biz/gerbasi-ristorante-bronx?adjust_creative=dToBS55fmZT8LnIUjncGOQ&utm_campaign=yelp_api_v3&utm_medium=api_v3_business_search&utm_source=dToBS55fmZT8LnIUjncGOQ', 'review_count': 136, 'categories': [{'alias': 'italian', 'title': 'Italian'}], 'rating': 4.0, 'coordinates': {'latitude': 40.855371, 'longitude': -73.888115}, 'transactions': [], 'price': '$$', 'location': {'address1': '2389 Arthur Ave', 'address2': '', 'address3': '', 'city': 'Bronx', 'zip_code': '10458', 'country': 'US', 'state': 'NY', 'display_address': ['2389 Arthur Ave', 'Bronx, NY 10458']}, 'phone': '+17182205735', 'display_phone': '(718) 220-5735', 'distance': 1275.2900758074693}, {'id': '7cSbonlfZ1_2DYewZme6Rw', 'alias': 'morrone-pastry-shop-and-cafe-bronx', 'name': 'Morrone Pastry Shop & Cafe', 'image_url': 'https://s3-media3.fl.yelpcdn.com/bphoto/S1Cg2InC8lB6xm0oDwHYQA/o.jpg', 'is_closed': False, 'url': 'https://www.yelp.com/biz/morrone-pastry-shop-and-cafe-bronx?adjust_creative=dToBS55fmZT8LnIUjncGOQ&utm_campaign=yelp_api_v3&utm_medium=api_v3_business_search&utm_source=dToBS55fmZT8LnIUjncGOQ', 'review_count': 105, 'categories': [{'alias': 'bakeries', 'title': 'Bakeries'}], 'rating': 3.5, 'coordinates': {'latitude': 40.85471, 'longitude': -73.8886799}, 'transactions': [], 'price': '$', 'location': {'address1': '2349 Arthur Ave', 'address2': '', 'address3': '', 'city': 'Bronx', 'zip_code': '10458', 'country': 'US', 'state': 'NY', 'display_address': ['2349 Arthur Ave', 'Bronx, NY 10458']}, 'phone': '+17187330424', 'display_phone': '(718) 733-0424', 'distance': 1185.984985360376}, {'id': 'fyVLkWQ5CP5q1yP8nnsj5g', 'alias': 'salsa-con-fuego-bronx', 'name': 'Salsa Con Fuego', 'image_url': 'https://s3-media2.fl.yelpcdn.com/bphoto/yYDupJduz2HT_KOBZbFHlg/o.jpg', 'is_closed': False, 'url': 'https://www.yelp.com/biz/salsa-con-fuego-bronx?adjust_creative=dToBS55fmZT8LnIUjncGOQ&utm_campaign=yelp_api_v3&utm_medium=api_v3_business_search&utm_source=dToBS55fmZT8LnIUjncGOQ', 'review_count': 611, 'categories': [{'alias': 'bars', 'title': 'Bars'}, {'alias': 'latin', 'title': 'Latin American'}, {'alias': 'venues', 'title': 'Venues & Event Spaces'}], 'rating': 3.0, 'coordinates': {'latitude': 40.8622, 'longitude': -73.91136}, 'transactions': [], 'price': '$$', 'location': {'address1': '2297 Cedar Ave', 'address2': None, 'address3': '', 'city': 'Bronx', 'zip_code': '10468', 'country': 'US', 'state': 'NY', 'display_address': ['2297 Cedar Ave', 'Bronx, NY 10468']}, 'phone': '+17185616161', 'display_phone': '(718) 561-6161', 'distance': 2002.9768153578361}, {'id': 'oIpNF3AJwqZlCs9fmpyFOQ', 'alias': 'rigoletto-pasquale-bronx', 'name': 'Pasquale Rigoletto Restaurant', 'image_url': 'https://s3-media1.fl.yelpcdn.com/bphoto/R8JqHycghVcU9YzIXbUU3Q/o.jpg', 'is_closed': False, 'url': 'https://www.yelp.com/biz/rigoletto-pasquale-bronx?adjust_creative=dToBS55fmZT8LnIUjncGOQ&utm_campaign=yelp_api_v3&utm_medium=api_v3_business_search&utm_source=dToBS55fmZT8LnIUjncGOQ', 'review_count': 166, 'categories': [{'alias': 'italian', 'title': 'Italian'}], 'rating': 3.5, 'coordinates': {'latitude': 40.8538, 'longitude': -73.88925}, 'transactions': [], 'price': '$$', 'location': {'address1': '2311 Arthur Ave', 'address2': '', 'address3': '', 'city': 'Bronx', 'zip_code': '10458', 'country': 'US', 'state': 'NY', 'display_address': ['2311 Arthur Ave', 'Bronx, NY 10458']}, 'phone': '+17183656644', 'display_phone': '(718) 365-6644', 'distance': 1086.1000334561465}, {'id': 'Glmnyzk8PSt2WYK4yTSt9Q', 'alias': 'addeo-bakers-bronx-2', 'name': 'Addeo Bakers', 'image_url': 'https://s3-media3.fl.yelpcdn.com/bphoto/62IBrnIYBcfqaR03p1ivkA/o.jpg', 'is_closed': False, 'url': 'https://www.yelp.com/biz/addeo-bakers-bronx-2?adjust_creative=dToBS55fmZT8LnIUjncGOQ&utm_campaign=yelp_api_v3&utm_medium=api_v3_business_search&utm_source=dToBS55fmZT8LnIUjncGOQ', 'review_count': 31, 'categories': [{'alias': 'bakeries', 'title': 'Bakeries'}], 'rating': 4.5, 'coordinates': {'latitude': 40.85443, 'longitude': -73.88723}, 'transactions': [], 'price': '$', 'location': {'address1': '2372 Hughes Ave', 'address2': '', 'address3': '', 'city': 'Bronx', 'zip_code': '10458', 'country': 'US', 'state': 'NY', 'display_address': ['2372 Hughes Ave', 'Bronx, NY 10458']}, 'phone': '+17183678316', 'display_phone': '(718) 367-8316', 'distance': 1249.770568127439}, {'id': 'Wcnig4807LHZyk8z08IeGw', 'alias': 'arthur-ave-fiasco-bronx', 'name': 'Arthur Ave Fiasco', 'image_url': 'https://s3-media1.fl.yelpcdn.com/bphoto/xa5vSWTcfIX7z256qERmCw/o.jpg', 'is_closed': False, 'url': 'https://www.yelp.com/biz/arthur-ave-fiasco-bronx?adjust_creative=dToBS55fmZT8LnIUjncGOQ&utm_campaign=yelp_api_v3&utm_medium=api_v3_business_search&utm_source=dToBS55fmZT8LnIUjncGOQ', 'review_count': 52, 'categories': [{'alias': 'italian', 'title': 'Italian'}, {'alias': 'seafood', 'title': 'Seafood'}, {'alias': 'pizza', 'title': 'Pizza'}], 'rating': 4.0, 'coordinates': {'latitude': 40.854825, 'longitude': -73.887862}, 'transactions': ['delivery', 'pickup'], 'price': '$$', 'location': {'address1': '2376 Arthur Ave', 'address2': '', 'address3': None, 'city': 'Bronx', 'zip_code': '10458', 'country': 'US', 'state': 'NY', 'display_address': ['2376 Arthur Ave', 'Bronx, NY 10458']}, 'phone': '+17186180806', 'display_phone': '(718) 618-0806', 'distance': 1244.3440203778023}, {'id': 'dC-EC1dZnr40MKnHPx-PIg', 'alias': 'patacon-pisao-truck-washington-heights', 'name': 'Patacon Pisao Truck', 'image_url': 'https://s3-media3.fl.yelpcdn.com/bphoto/q4BC7wdYrD6E1uQY1xde2A/o.jpg', 'is_closed': False, 'url': 'https://www.yelp.com/biz/patacon-pisao-truck-washington-heights?adjust_creative=dToBS55fmZT8LnIUjncGOQ&utm_campaign=yelp_api_v3&utm_medium=api_v3_business_search&utm_source=dToBS55fmZT8LnIUjncGOQ', 'review_count': 78, 'categories': [{'alias': 'foodtrucks', 'title': 'Food Trucks'}, {'alias': 'venezuelan', 'title': 'Venezuelan'}], 'rating': 4.5, 'coordinates': {'latitude': 40.86106, 'longitude': -73.92036}, 'transactions': ['pickup'], 'price': '$', 'location': {'address1': '431 W 202nd St', 'address2': '', 'address3': '', 'city': 'Washington Heights', 'zip_code': '10034', 'country': 'US', 'state': 'NY', 'display_address': ['431 W 202nd St', 'Washington Heights, NY 10034']}, 'phone': '+19179719828', 'display_phone': '(917) 971-9828', 'distance': 2416.7385742448973}, {'id': '8dlS098gFHDyH8kj9qRTuQ', 'alias': 'el-nuevo-bohio-lechonera-bronx', 'name': 'El Nuevo Bohio Lechonera', 'image_url': 'https://s3-media3.fl.yelpcdn.com/bphoto/HgQhfnRCP_gCObIklWNB9w/o.jpg', 'is_closed': False, 'url': 'https://www.yelp.com/biz/el-nuevo-bohio-lechonera-bronx?adjust_creative=dToBS55fmZT8LnIUjncGOQ&utm_campaign=yelp_api_v3&utm_medium=api_v3_business_search&utm_source=dToBS55fmZT8LnIUjncGOQ', 'review_count': 92, 'categories': [{'alias': 'spanish', 'title': 'Spanish'}, {'alias': 'puertorican', 'title': 'Puerto Rican'}], 'rating': 3.5, 'coordinates': {'latitude': 40.84402, 'longitude': -73.88802}, 'transactions': [], 'price': '$$', 'location': {'address1': '791 E Tremont Ave', 'address2': '', 'address3': '', 'city': 'Bronx', 'zip_code': '10460', 'country': 'US', 'state': 'NY', 'display_address': ['791 E Tremont Ave', 'Bronx, NY 10460']}, 'phone': '+17182943905', 'display_phone': '(718) 294-3905', 'distance': 951.9977104534736}, {'id': 'eLoZU4zi5RykCFw0aJXGyA', 'alias': 'cafe-al-mercato-bronx', 'name': 'Cafe al Mercato', 'image_url': 'https://s3-media1.fl.yelpcdn.com/bphoto/0g6njWtVkp1EAXgXxCSq9g/o.jpg', 'is_closed': False, 'url': 'https://www.yelp.com/biz/cafe-al-mercato-bronx?adjust_creative=dToBS55fmZT8LnIUjncGOQ&utm_campaign=yelp_api_v3&utm_medium=api_v3_business_search&utm_source=dToBS55fmZT8LnIUjncGOQ', 'review_count': 28, 'categories': [{'alias': 'italian', 'title': 'Italian'}, {'alias': 'pizza', 'title': 'Pizza'}], 'rating': 4.5, 'coordinates': {'latitude': 40.854118, 'longitude': -73.888175}, 'transactions': [], 'price': '$$', 'location': {'address1': '2344 Arthur Ave', 'address2': '', 'address3': '', 'city': 'Bronx', 'zip_code': '10458', 'country': 'US', 'state': 'NY', 'display_address': ['2344 Arthur Ave', 'Bronx, NY 10458']}, 'phone': '+17183647681', 'display_phone': '(718) 364-7681', 'distance': 1173.8673945036514}, {'id': '3D4DxZAwQvHhfSocMxHsZw', 'alias': 'cachapa-cachapa-bronx', 'name': 'Cachapa Cachapa', 'image_url': 'https://s3-media3.fl.yelpcdn.com/bphoto/5Nss9z8oITZC_1zacU49KA/o.jpg', 'is_closed': False, 'url': 'https://www.yelp.com/biz/cachapa-cachapa-bronx?adjust_creative=dToBS55fmZT8LnIUjncGOQ&utm_campaign=yelp_api_v3&utm_medium=api_v3_business_search&utm_source=dToBS55fmZT8LnIUjncGOQ', 'review_count': 30, 'categories': [{'alias': 'venezuelan', 'title': 'Venezuelan'}, {'alias': 'dominican', 'title': 'Dominican'}], 'rating': 4.0, 'coordinates': {'latitude': 40.8470732, 'longitude': -73.8972239}, 'transactions': ['pickup'], 'price': '$', 'location': {'address1': '1903 Bathgate Ave', 'address2': None, 'address3': None, 'city': 'Bronx', 'zip_code': '10457', 'country': 'US', 'state': 'NY', 'display_address': ['1903 Bathgate Ave', 'Bronx, NY 10457']}, 'phone': '+13473290673', 'display_phone': '(347) 329-0673', 'distance': 115.4677307351952}, {'id': 'XR1jM0e7G3HYOMgi4CXlnw', 'alias': '188-bakery-cuchifritos-bronx', 'name': \"188 Bakery Cuchifrito's\", 'image_url': 'https://s3-media1.fl.yelpcdn.com/bphoto/_753AcoHlA4iY71pb-bg6A/o.jpg', 'is_closed': False, 'url': 'https://www.yelp.com/biz/188-bakery-cuchifritos-bronx?adjust_creative=dToBS55fmZT8LnIUjncGOQ&utm_campaign=yelp_api_v3&utm_medium=api_v3_business_search&utm_source=dToBS55fmZT8LnIUjncGOQ', 'review_count': 70, 'categories': [{'alias': 'bakeries', 'title': 'Bakeries'}, {'alias': 'latin', 'title': 'Latin American'}, {'alias': 'puertorican', 'title': 'Puerto Rican'}], 'rating': 4.0, 'coordinates': {'latitude': 40.8614682, 'longitude': -73.8983208}, 'transactions': [], 'price': '$', 'location': {'address1': '158 E 188th St', 'address2': '', 'address3': '', 'city': 'Bronx', 'zip_code': '10468', 'country': 'US', 'state': 'NY', 'display_address': ['158 E 188th St', 'Bronx, NY 10468']}, 'phone': '+17183674500', 'display_phone': '(718) 367-4500', 'distance': 1604.5929613598164}, {'id': 'vGFCPgKmDqsldeA7qadZbw', 'alias': 'terranova-bakery-bronx', 'name': 'Terranova Bakery', 'image_url': 'https://s3-media1.fl.yelpcdn.com/bphoto/atuNwgb1aAkvw9sFDCyxQA/o.jpg', 'is_closed': False, 'url': 'https://www.yelp.com/biz/terranova-bakery-bronx?adjust_creative=dToBS55fmZT8LnIUjncGOQ&utm_campaign=yelp_api_v3&utm_medium=api_v3_business_search&utm_source=dToBS55fmZT8LnIUjncGOQ', 'review_count': 26, 'categories': [{'alias': 'bakeries', 'title': 'Bakeries'}], 'rating': 4.5, 'coordinates': {'latitude': 40.8544, 'longitude': -73.88481}, 'transactions': [], 'price': '$', 'location': {'address1': '691 E 187th St', 'address2': '', 'address3': '', 'city': 'Bronx', 'zip_code': '10458', 'country': 'US', 'state': 'NY', 'display_address': ['691 E 187th St', 'Bronx, NY 10458']}, 'phone': '+17183676985', 'display_phone': '(718) 367-6985', 'distance': 1415.8109048263036}, {'id': '0p6W9PtbvBkOl7VBmUZciw', 'alias': 'hudson-garden-grill-bronx', 'name': 'Hudson Garden Grill', 'image_url': 'https://s3-media3.fl.yelpcdn.com/bphoto/LagHJahIte3r7Xlc1aJHvw/o.jpg', 'is_closed': False, 'url': 'https://www.yelp.com/biz/hudson-garden-grill-bronx?adjust_creative=dToBS55fmZT8LnIUjncGOQ&utm_campaign=yelp_api_v3&utm_medium=api_v3_business_search&utm_source=dToBS55fmZT8LnIUjncGOQ', 'review_count': 137, 'categories': [{'alias': 'newamerican', 'title': 'American (New)'}], 'rating': 4.0, 'coordinates': {'latitude': 40.865217626397, 'longitude': -73.8814812345422}, 'transactions': [], 'price': '$$', 'location': {'address1': '2900 Southern Blvd', 'address2': '', 'address3': '', 'city': 'Bronx', 'zip_code': '10458', 'country': 'US', 'state': 'NY', 'display_address': ['2900 Southern Blvd', 'Bronx, NY 10458']}, 'phone': '+16466277711', 'display_phone': '(646) 627-7711', 'distance': 2475.438372236892}, {'id': 'Z0YgJYJS47WdpbmRWOGsEA', 'alias': 'bella-pizza-bronx', 'name': 'Bella Pizza', 'image_url': 'https://s3-media2.fl.yelpcdn.com/bphoto/bm7egZgdaPq8QpCyl_ApxA/o.jpg', 'is_closed': False, 'url': 'https://www.yelp.com/biz/bella-pizza-bronx?adjust_creative=dToBS55fmZT8LnIUjncGOQ&utm_campaign=yelp_api_v3&utm_medium=api_v3_business_search&utm_source=dToBS55fmZT8LnIUjncGOQ', 'review_count': 36, 'categories': [{'alias': 'pizza', 'title': 'Pizza'}], 'rating': 4.5, 'coordinates': {'latitude': 40.86291, 'longitude': -73.90197}, 'transactions': ['delivery', 'pickup'], 'price': '$', 'location': {'address1': '19 W Fordham Rd', 'address2': '', 'address3': None, 'city': 'Bronx', 'zip_code': '10468', 'country': 'US', 'state': 'NY', 'display_address': ['19 W Fordham Rd', 'Bronx, NY 10468']}, 'phone': '+17188727206', 'display_phone': '(718) 872-7206', 'distance': 1800.237789686912}, {'id': 'HONgezM2sLErFPBAXvEqGw', 'alias': 'egidio-pastry-shop-bronx', 'name': 'Egidio Pastry Shop', 'image_url': 'https://s3-media1.fl.yelpcdn.com/bphoto/I7RYQuTUG51XDSq6VPZ98A/o.jpg', 'is_closed': False, 'url': 'https://www.yelp.com/biz/egidio-pastry-shop-bronx?adjust_creative=dToBS55fmZT8LnIUjncGOQ&utm_campaign=yelp_api_v3&utm_medium=api_v3_business_search&utm_source=dToBS55fmZT8LnIUjncGOQ', 'review_count': 88, 'categories': [{'alias': 'bakeries', 'title': 'Bakeries'}, {'alias': 'desserts', 'title': 'Desserts'}], 'rating': 3.5, 'coordinates': {'latitude': 40.85493, 'longitude': -73.8869}, 'transactions': [], 'price': '$$', 'location': {'address1': '622 E 187th St', 'address2': '', 'address3': '', 'city': 'Bronx', 'zip_code': '10458', 'country': 'US', 'state': 'NY', 'display_address': ['622 E 187th St', 'Bronx, NY 10458']}, 'phone': '+17182956077', 'display_phone': '(718) 295-6077', 'distance': 1312.612958410426}, {'id': 'viCIS9T_Kph515FyzYAaEA', 'alias': 'rjc-familys-cafe-bronx-2', 'name': \"RJC Family's Cafe\", 'image_url': 'https://s3-media2.fl.yelpcdn.com/bphoto/8FNI4zGAlgXJunh4xJhb2g/o.jpg', 'is_closed': False, 'url': 'https://www.yelp.com/biz/rjc-familys-cafe-bronx-2?adjust_creative=dToBS55fmZT8LnIUjncGOQ&utm_campaign=yelp_api_v3&utm_medium=api_v3_business_search&utm_source=dToBS55fmZT8LnIUjncGOQ', 'review_count': 39, 'categories': [{'alias': 'mexican', 'title': 'Mexican'}, {'alias': 'breakfast_brunch', 'title': 'Breakfast & Brunch'}, {'alias': 'diners', 'title': 'Diners'}], 'rating': 4.0, 'coordinates': {'latitude': 40.860625, 'longitude': -73.902116}, 'transactions': ['delivery', 'pickup'], 'price': '$', 'location': {'address1': '2378 Jerome Ave', 'address2': '', 'address3': '', 'city': 'Bronx', 'zip_code': '10468', 'country': 'US', 'state': 'NY', 'display_address': ['2378 Jerome Ave', 'Bronx, NY 10468']}, 'phone': '+17182204888', 'display_phone': '(718) 220-4888', 'distance': 1538.882938775795}, {'id': 'LUwgb33xlhuDfPqHlZ0rvA', 'alias': 'catanias-pizzeria-and-cafe-bronx', 'name': \"Catania's Pizzeria & Cafe\", 'image_url': 'https://s3-media2.fl.yelpcdn.com/bphoto/lihFxg2VNm7ykkfgmny6QA/o.jpg', 'is_closed': False, 'url': 'https://www.yelp.com/biz/catanias-pizzeria-and-cafe-bronx?adjust_creative=dToBS55fmZT8LnIUjncGOQ&utm_campaign=yelp_api_v3&utm_medium=api_v3_business_search&utm_source=dToBS55fmZT8LnIUjncGOQ', 'review_count': 25, 'categories': [{'alias': 'pizza', 'title': 'Pizza'}], 'rating': 4.5, 'coordinates': {'latitude': 40.853683, 'longitude': -73.889304}, 'transactions': ['delivery', 'pickup'], 'price': '$', 'location': {'address1': '2305 Arthur Ave', 'address2': '', 'address3': '', 'city': 'Bronx', 'zip_code': '10458', 'country': 'US', 'state': 'NY', 'display_address': ['2305 Arthur Ave', 'Bronx, NY 10458']}, 'phone': '+17185843583', 'display_phone': '(718) 584-3583', 'distance': 1068.5626276568428}, {'id': 'wZd6V6WtH4KhoUGWxvVUvw', 'alias': 'peachwave-bronx-3', 'name': 'Peachwave', 'image_url': 'https://s3-media3.fl.yelpcdn.com/bphoto/1WjbyWwvTP5JEa5J252WSw/o.jpg', 'is_closed': False, 'url': 'https://www.yelp.com/biz/peachwave-bronx-3?adjust_creative=dToBS55fmZT8LnIUjncGOQ&utm_campaign=yelp_api_v3&utm_medium=api_v3_business_search&utm_source=dToBS55fmZT8LnIUjncGOQ', 'review_count': 29, 'categories': [{'alias': 'icecream', 'title': 'Ice Cream & Frozen Yogurt'}], 'rating': 4.5, 'coordinates': {'latitude': 40.8551864624023, 'longitude': -73.8875122070312}, 'transactions': [], 'price': '$', 'location': {'address1': '602 E 187th St', 'address2': None, 'address3': '', 'city': 'Bronx', 'zip_code': '10458', 'country': 'US', 'state': 'NY', 'display_address': ['602 E 187th St', 'Bronx, NY 10458']}, 'phone': '+13472705883', 'display_phone': '(347) 270-5883', 'distance': 1292.789243702871}], 'total': 606, 'region': {'center': {'longitude': -73.89850616455078, 'latitude': 40.847057493438214}}}\n",
      "606 search results total near 10457\n",
      "There are 1 \"restaurant,all\" businesses directly in 10457:\n",
      "\n",
      "cachapa-cachapa-bronx -- DELIVERS: False\n"
     ]
    }
   ],
   "source": [
    "#Business Search      URL -- 'https://api.yelp.com/v3/businesses/search'\n",
    "#Business Match       URL -- 'https://api.yelp.com/v3/businesses/matches'\n",
    "#Phone Search         URL -- 'https://api.yelp.com/v3/businesses/search/phone'\n",
    "\n",
    "#Business Details     URL -- 'https://api.yelp.com/v3/businesses/{id}'\n",
    "#Business Reviews     URL -- 'https://api.yelp.com/v3/businesses/{id}/reviews'\n",
    "#Delivary                     https://api.yelp.com/v3/transactions/{transaction_type}/search\n",
    "#Businesses, Total, Region\n",
    "\n",
    "# Import the modules\n",
    "import requests\n",
    "import json\n",
    "import numpy as np\n",
    "import pandas as pd \n",
    "import matplotlib.pyplot as plt\n",
    "import requests \n",
    "import time\n",
    "import json\n",
    "import seaborn \n",
    "\n",
    "# connect to API key\n",
    "from config import yelpkey\n",
    "\n",
    "# Define API Key, Endpoint, and Header\n",
    "API_KEY = yelpkey\n",
    "ENDPOINT = 'https://api.yelp.com/v3/businesses/search'\n",
    "HEADERS = {'Authorization': 'bearer %s' % API_KEY}\n",
    "\n",
    "# Let's first do an easy call to see how we find the total # of restaurants in a zip code\n",
    "\n",
    "# Define parameters of  search: chinese restaurants in zipcode 10007\n",
    "PARAMETERS = {'location': '10457',\n",
    "              'limit': 50,\n",
    "              'categories': 'restaurant,all'}\n",
    "                \n",
    "\n",
    "# Make a request to the Yelp API\n",
    "response = requests.get(url = ENDPOINT,\n",
    "                        params = PARAMETERS,\n",
    "                        headers = HEADERS)\n",
    "\n",
    "# Convert the JSON String\n",
    "business_data = response.json()\n",
    "num_of_results = business_data['total']\n",
    "print(business_data)\n",
    "# print some basic data on the response\n",
    "biz = []\n",
    "\n",
    "count_in_zip = 0\n",
    "for restaurant in business_data['businesses']:\n",
    "    if restaurant['location']['zip_code'] == PARAMETERS['location']:\n",
    "        count_in_zip += 1\n",
    "        biz.append(f'{restaurant[\"alias\"]} -- DELIVERS: {\"delivery\" in restaurant[\"transactions\"]}')\n",
    "\n",
    "print(f'{num_of_results} search results total near {PARAMETERS[\"location\"]}')\n",
    "print(f'There are {count_in_zip} \"{PARAMETERS[\"categories\"].replace(\"+\", \" \")}\" businesses directly in {PARAMETERS[\"location\"]}:\\n')\n",
    "print(*biz, sep='\\n')"
   ]
  },
  {
   "cell_type": "code",
   "execution_count": 4,
   "metadata": {},
   "outputs": [
    {
     "name": "stdout",
     "output_type": "stream",
     "text": [
      "227\n"
     ]
    }
   ],
   "source": [
    "# we can see in the response above that there are three keys, one of which is \"total\"\n",
    "\n",
    "# Print the value in the \"total\" key to see how many Chinese restaurants are in that zip code\n",
    "print(business_data['total'])"
   ]
  },
  {
   "cell_type": "code",
   "execution_count": null,
   "metadata": {},
   "outputs": [],
   "source": [
    "# so now let's apply that approach with a list of zip codes instead of just one"
   ]
  },
  {
   "cell_type": "code",
   "execution_count": 10,
   "metadata": {},
   "outputs": [
    {
     "data": {
      "text/html": [
       "<div>\n",
       "<style scoped>\n",
       "    .dataframe tbody tr th:only-of-type {\n",
       "        vertical-align: middle;\n",
       "    }\n",
       "\n",
       "    .dataframe tbody tr th {\n",
       "        vertical-align: top;\n",
       "    }\n",
       "\n",
       "    .dataframe thead th {\n",
       "        text-align: right;\n",
       "    }\n",
       "</style>\n",
       "<table border=\"1\" class=\"dataframe\">\n",
       "  <thead>\n",
       "    <tr style=\"text-align: right;\">\n",
       "      <th></th>\n",
       "      <th>Zip Code</th>\n",
       "    </tr>\n",
       "  </thead>\n",
       "  <tbody>\n",
       "    <tr>\n",
       "      <th>0</th>\n",
       "      <td>10001</td>\n",
       "    </tr>\n",
       "    <tr>\n",
       "      <th>1</th>\n",
       "      <td>10002</td>\n",
       "    </tr>\n",
       "    <tr>\n",
       "      <th>2</th>\n",
       "      <td>10003</td>\n",
       "    </tr>\n",
       "    <tr>\n",
       "      <th>3</th>\n",
       "      <td>10004</td>\n",
       "    </tr>\n",
       "    <tr>\n",
       "      <th>4</th>\n",
       "      <td>10005</td>\n",
       "    </tr>\n",
       "    <tr>\n",
       "      <th>5</th>\n",
       "      <td>10006</td>\n",
       "    </tr>\n",
       "    <tr>\n",
       "      <th>6</th>\n",
       "      <td>10007</td>\n",
       "    </tr>\n",
       "  </tbody>\n",
       "</table>\n",
       "</div>"
      ],
      "text/plain": [
       "   Zip Code\n",
       "0     10001\n",
       "1     10002\n",
       "2     10003\n",
       "3     10004\n",
       "4     10005\n",
       "5     10006\n",
       "6     10007"
      ]
     },
     "execution_count": 10,
     "metadata": {},
     "output_type": "execute_result"
    }
   ],
   "source": [
    "# import NY zip codes list from CSV & convert into dataframe\n",
    "# note, to test, I'm using an abbreciated version of our zip code list \n",
    "\n",
    "zipcodes_data = \"clean_operational_ny_zips_SHORT.csv\" \n",
    "zipcodes_df = pd.read_csv(zipcodes_data)\n",
    "zipcodes_df"
   ]
  },
  {
   "cell_type": "code",
   "execution_count": 11,
   "metadata": {},
   "outputs": [
    {
     "data": {
      "text/html": [
       "<div>\n",
       "<style scoped>\n",
       "    .dataframe tbody tr th:only-of-type {\n",
       "        vertical-align: middle;\n",
       "    }\n",
       "\n",
       "    .dataframe tbody tr th {\n",
       "        vertical-align: top;\n",
       "    }\n",
       "\n",
       "    .dataframe thead th {\n",
       "        text-align: right;\n",
       "    }\n",
       "</style>\n",
       "<table border=\"1\" class=\"dataframe\">\n",
       "  <thead>\n",
       "    <tr style=\"text-align: right;\">\n",
       "      <th></th>\n",
       "      <th>Zip Code</th>\n",
       "      <th># Chinese Rest</th>\n",
       "    </tr>\n",
       "  </thead>\n",
       "  <tbody>\n",
       "    <tr>\n",
       "      <th>0</th>\n",
       "      <td>10001</td>\n",
       "      <td></td>\n",
       "    </tr>\n",
       "    <tr>\n",
       "      <th>1</th>\n",
       "      <td>10002</td>\n",
       "      <td></td>\n",
       "    </tr>\n",
       "    <tr>\n",
       "      <th>2</th>\n",
       "      <td>10003</td>\n",
       "      <td></td>\n",
       "    </tr>\n",
       "    <tr>\n",
       "      <th>3</th>\n",
       "      <td>10004</td>\n",
       "      <td></td>\n",
       "    </tr>\n",
       "    <tr>\n",
       "      <th>4</th>\n",
       "      <td>10005</td>\n",
       "      <td></td>\n",
       "    </tr>\n",
       "    <tr>\n",
       "      <th>5</th>\n",
       "      <td>10006</td>\n",
       "      <td></td>\n",
       "    </tr>\n",
       "    <tr>\n",
       "      <th>6</th>\n",
       "      <td>10007</td>\n",
       "      <td></td>\n",
       "    </tr>\n",
       "  </tbody>\n",
       "</table>\n",
       "</div>"
      ],
      "text/plain": [
       "   Zip Code # Chinese Rest\n",
       "0     10001               \n",
       "1     10002               \n",
       "2     10003               \n",
       "3     10004               \n",
       "4     10005               \n",
       "5     10006               \n",
       "6     10007               "
      ]
     },
     "execution_count": 11,
     "metadata": {},
     "output_type": "execute_result"
    }
   ],
   "source": [
    "# Add column to hold number of Chinese restaurants\n",
    "zipcodes_df[\"# Chinese Rest\"] = \"\"\n",
    "zipcodes_df\n"
   ]
  },
  {
   "cell_type": "code",
   "execution_count": 26,
   "metadata": {},
   "outputs": [
    {
     "ename": "NameError",
     "evalue": "name 'zipcodes_df' is not defined",
     "output_type": "error",
     "traceback": [
      "\u001b[0;31m---------------------------------------------------------------------------\u001b[0m",
      "\u001b[0;31mNameError\u001b[0m                                 Traceback (most recent call last)",
      "\u001b[0;32m<ipython-input-26-de2173b81c7c>\u001b[0m in \u001b[0;36m<module>\u001b[0;34m\u001b[0m\n\u001b[1;32m      1\u001b[0m \u001b[0;31m# create a loop that looks up the zip in each row and adds total # Chinese rest to the column\u001b[0m\u001b[0;34m\u001b[0m\u001b[0;34m\u001b[0m\u001b[0;34m\u001b[0m\u001b[0m\n\u001b[1;32m      2\u001b[0m \u001b[0;34m\u001b[0m\u001b[0m\n\u001b[0;32m----> 3\u001b[0;31m \u001b[0;32mfor\u001b[0m \u001b[0mindex\u001b[0m\u001b[0;34m,\u001b[0m \u001b[0mrow\u001b[0m \u001b[0;32min\u001b[0m \u001b[0mzipcodes_df\u001b[0m\u001b[0;34m.\u001b[0m\u001b[0miterrows\u001b[0m\u001b[0;34m(\u001b[0m\u001b[0;34m)\u001b[0m\u001b[0;34m:\u001b[0m\u001b[0;34m\u001b[0m\u001b[0;34m\u001b[0m\u001b[0m\n\u001b[0m\u001b[1;32m      4\u001b[0m     \u001b[0mzip\u001b[0m \u001b[0;34m=\u001b[0m \u001b[0mrow\u001b[0m\u001b[0;34m[\u001b[0m\u001b[0;34m'Zip Code'\u001b[0m\u001b[0;34m]\u001b[0m\u001b[0;34m\u001b[0m\u001b[0;34m\u001b[0m\u001b[0m\n\u001b[1;32m      5\u001b[0m     PARAMETERS = {'categories': 'restaurants, all',\n",
      "\u001b[0;31mNameError\u001b[0m: name 'zipcodes_df' is not defined"
     ]
    }
   ],
   "source": [
    "# create a loop that looks up the zip in each row and adds total # Chinese rest to the column\n",
    "\n",
    "for index, row in zipcodes_df.iterrows():    \n",
    "    zip = row['Zip Code']\n",
    "    PARAMETERS = {'categories': 'restaurants, all',\n",
    "                  'location': zip,\n",
    "                  'limit': 50,\n",
    "                  'offset': 0}\n",
    "    try:\n",
    "        print(f\"Finding restaurant info for zip code: {zip}\")\n",
    "        count_in_zip = 0\n",
    "        if business_data['total'] > 50:\n",
    "            for i in range(0, int(business_data['total']), 50):\n",
    "                PARAMETERS['offset'] = i\n",
    "                business_data = requests.get(url=ENDPOINT, params=PARAMETERS, headers=HEADERS).json()\n",
    "                for restaurant in business_data['businesses']:\n",
    "                    if restaurant['location']['zip_code'] == str(PARAMETERS['location']):\n",
    "                        count_in_zip += 1\n",
    "                        zipcodes_df.loc[index, \"# Chinese Rest\"] = count_in_zip\n",
    "        else:\n",
    "            for restaurant in business_data['businesses']:\n",
    "                if restaurant['location']['zip_code'] == str(PARAMETERS['location']):\n",
    "                    count_in_zip += 1\n",
    "                    zipcodes_df.loc[index, \"# Chinese Rest\"] = count_in_zip\n",
    "    except json.decoder.JSONDecodeError:\n",
    "        print(\"Missing field/result... skipping.\")\n",
    "        \n",
    "    print(\"-------------------------------------------\")"
   ]
  },
  {
   "cell_type": "code",
   "execution_count": 23,
   "metadata": {},
   "outputs": [
    {
     "data": {
      "text/html": [
       "<div>\n",
       "<style scoped>\n",
       "    .dataframe tbody tr th:only-of-type {\n",
       "        vertical-align: middle;\n",
       "    }\n",
       "\n",
       "    .dataframe tbody tr th {\n",
       "        vertical-align: top;\n",
       "    }\n",
       "\n",
       "    .dataframe thead th {\n",
       "        text-align: right;\n",
       "    }\n",
       "</style>\n",
       "<table border=\"1\" class=\"dataframe\">\n",
       "  <thead>\n",
       "    <tr style=\"text-align: right;\">\n",
       "      <th></th>\n",
       "      <th>Zip Code</th>\n",
       "      <th># Chinese Rest</th>\n",
       "    </tr>\n",
       "  </thead>\n",
       "  <tbody>\n",
       "    <tr>\n",
       "      <th>0</th>\n",
       "      <td>10001</td>\n",
       "      <td>6</td>\n",
       "    </tr>\n",
       "    <tr>\n",
       "      <th>1</th>\n",
       "      <td>10002</td>\n",
       "      <td>9</td>\n",
       "    </tr>\n",
       "    <tr>\n",
       "      <th>2</th>\n",
       "      <td>10003</td>\n",
       "      <td>16</td>\n",
       "    </tr>\n",
       "    <tr>\n",
       "      <th>3</th>\n",
       "      <td>10004</td>\n",
       "      <td>4</td>\n",
       "    </tr>\n",
       "    <tr>\n",
       "      <th>4</th>\n",
       "      <td>10005</td>\n",
       "      <td>4</td>\n",
       "    </tr>\n",
       "    <tr>\n",
       "      <th>5</th>\n",
       "      <td>10006</td>\n",
       "      <td>7</td>\n",
       "    </tr>\n",
       "    <tr>\n",
       "      <th>6</th>\n",
       "      <td>10007</td>\n",
       "      <td>4</td>\n",
       "    </tr>\n",
       "  </tbody>\n",
       "</table>\n",
       "</div>"
      ],
      "text/plain": [
       "   Zip Code  # Chinese Rest\n",
       "0     10001               6\n",
       "1     10002               9\n",
       "2     10003              16\n",
       "3     10004               4\n",
       "4     10005               4\n",
       "5     10006               7\n",
       "6     10007               4"
      ]
     },
     "execution_count": 23,
     "metadata": {},
     "output_type": "execute_result"
    }
   ],
   "source": [
    "# print the data frame, which should now include the Chinese restaurant count by zip\n",
    "zipcodes_df\n"
   ]
  },
  {
   "cell_type": "code",
   "execution_count": null,
   "metadata": {},
   "outputs": [],
   "source": []
  }
 ],
 "metadata": {
  "kernelspec": {
   "display_name": "Python 3",
   "language": "python",
   "name": "python3"
  },
  "language_info": {
   "codemirror_mode": {
    "name": "ipython",
    "version": 3
   },
   "file_extension": ".py",
   "mimetype": "text/x-python",
   "name": "python",
   "nbconvert_exporter": "python",
   "pygments_lexer": "ipython3",
   "version": "3.7.3"
  }
 },
 "nbformat": 4,
 "nbformat_minor": 2
}
