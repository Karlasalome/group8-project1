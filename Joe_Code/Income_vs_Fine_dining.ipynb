{
 "cells": [
  {
   "cell_type": "code",
   "execution_count": 1,
   "metadata": {},
   "outputs": [],
   "source": [
    "%matplotlib inline\n",
    "# import dependencies\n",
    "import requests\n",
    "import json\n",
    "from pprint import pprint\n",
    "import pandas as pd\n",
    "import numpy as np\n",
    "import matplotlib.pyplot as plt\n",
    "import seaborn as sns\n",
    "sns.set_style('whitegrid')\n",
    "\n",
    "import scipy.stats as stats\n",
    "\n",
    "# connect to API key\n",
    "ckey = \"c3c7837f76a061a6b169ca1e0b35db71ba2b26c3\""
   ]
  },
  {
   "cell_type": "code",
   "execution_count": 2,
   "metadata": {},
   "outputs": [
    {
     "data": {
      "text/html": [
       "<div>\n",
       "<style scoped>\n",
       "    .dataframe tbody tr th:only-of-type {\n",
       "        vertical-align: middle;\n",
       "    }\n",
       "\n",
       "    .dataframe tbody tr th {\n",
       "        vertical-align: top;\n",
       "    }\n",
       "\n",
       "    .dataframe thead th {\n",
       "        text-align: right;\n",
       "    }\n",
       "</style>\n",
       "<table border=\"1\" class=\"dataframe\">\n",
       "  <thead>\n",
       "    <tr style=\"text-align: right;\">\n",
       "      <th></th>\n",
       "      <th>NYC_Zip_Codes</th>\n",
       "    </tr>\n",
       "  </thead>\n",
       "  <tbody>\n",
       "    <tr>\n",
       "      <th>0</th>\n",
       "      <td>10001</td>\n",
       "    </tr>\n",
       "    <tr>\n",
       "      <th>1</th>\n",
       "      <td>10002</td>\n",
       "    </tr>\n",
       "    <tr>\n",
       "      <th>2</th>\n",
       "      <td>10003</td>\n",
       "    </tr>\n",
       "    <tr>\n",
       "      <th>3</th>\n",
       "      <td>10004</td>\n",
       "    </tr>\n",
       "    <tr>\n",
       "      <th>4</th>\n",
       "      <td>10005</td>\n",
       "    </tr>\n",
       "  </tbody>\n",
       "</table>\n",
       "</div>"
      ],
      "text/plain": [
       "   NYC_Zip_Codes\n",
       "0          10001\n",
       "1          10002\n",
       "2          10003\n",
       "3          10004\n",
       "4          10005"
      ]
     },
     "execution_count": 2,
     "metadata": {},
     "output_type": "execute_result"
    }
   ],
   "source": [
    "# read zip codes csv\n",
    "zipcodes_data = \"clean_nyc_zips.csv\" \n",
    "zipcodes_df = pd.read_csv(zipcodes_data)\n",
    "zipcodes_df.head()"
   ]
  },
  {
   "cell_type": "code",
   "execution_count": 3,
   "metadata": {},
   "outputs": [
    {
     "data": {
      "text/html": [
       "<div>\n",
       "<style scoped>\n",
       "    .dataframe tbody tr th:only-of-type {\n",
       "        vertical-align: middle;\n",
       "    }\n",
       "\n",
       "    .dataframe tbody tr th {\n",
       "        vertical-align: top;\n",
       "    }\n",
       "\n",
       "    .dataframe thead th {\n",
       "        text-align: right;\n",
       "    }\n",
       "</style>\n",
       "<table border=\"1\" class=\"dataframe\">\n",
       "  <thead>\n",
       "    <tr style=\"text-align: right;\">\n",
       "      <th></th>\n",
       "      <th>NYC_Zip_Codes</th>\n",
       "      <th>Avg Income ($)</th>\n",
       "    </tr>\n",
       "  </thead>\n",
       "  <tbody>\n",
       "    <tr>\n",
       "      <th>0</th>\n",
       "      <td>10001</td>\n",
       "      <td></td>\n",
       "    </tr>\n",
       "    <tr>\n",
       "      <th>1</th>\n",
       "      <td>10002</td>\n",
       "      <td></td>\n",
       "    </tr>\n",
       "    <tr>\n",
       "      <th>2</th>\n",
       "      <td>10003</td>\n",
       "      <td></td>\n",
       "    </tr>\n",
       "    <tr>\n",
       "      <th>3</th>\n",
       "      <td>10004</td>\n",
       "      <td></td>\n",
       "    </tr>\n",
       "    <tr>\n",
       "      <th>4</th>\n",
       "      <td>10005</td>\n",
       "      <td></td>\n",
       "    </tr>\n",
       "  </tbody>\n",
       "</table>\n",
       "</div>"
      ],
      "text/plain": [
       "   NYC_Zip_Codes Avg Income ($)\n",
       "0          10001               \n",
       "1          10002               \n",
       "2          10003               \n",
       "3          10004               \n",
       "4          10005               "
      ]
     },
     "execution_count": 3,
     "metadata": {},
     "output_type": "execute_result"
    }
   ],
   "source": [
    "# Add columns for income\n",
    "zipcodes_df[\"Avg Income ($)\"] = \"\"\n",
    "\n",
    "\n",
    "zipcodes_df.head()"
   ]
  },
  {
   "cell_type": "code",
   "execution_count": 4,
   "metadata": {},
   "outputs": [
    {
     "data": {
      "text/html": [
       "<div>\n",
       "<style scoped>\n",
       "    .dataframe tbody tr th:only-of-type {\n",
       "        vertical-align: middle;\n",
       "    }\n",
       "\n",
       "    .dataframe tbody tr th {\n",
       "        vertical-align: top;\n",
       "    }\n",
       "\n",
       "    .dataframe thead th {\n",
       "        text-align: right;\n",
       "    }\n",
       "</style>\n",
       "<table border=\"1\" class=\"dataframe\">\n",
       "  <thead>\n",
       "    <tr style=\"text-align: right;\">\n",
       "      <th></th>\n",
       "      <th>Unnamed: 0</th>\n",
       "      <th>name</th>\n",
       "      <th>address</th>\n",
       "      <th>city</th>\n",
       "      <th>state</th>\n",
       "      <th>description</th>\n",
       "      <th>star</th>\n",
       "      <th>full_address</th>\n",
       "      <th>postal_code</th>\n",
       "    </tr>\n",
       "  </thead>\n",
       "  <tbody>\n",
       "    <tr>\n",
       "      <th>0</th>\n",
       "      <td>1</td>\n",
       "      <td>Sushi Inoue</td>\n",
       "      <td>381 Lenox Ave</td>\n",
       "      <td>New York</td>\n",
       "      <td>NY</td>\n",
       "      <td>ONE STAR for this Japanese restaurant in Harlem.</td>\n",
       "      <td>1</td>\n",
       "      <td>381 Lenox Ave, New York, NY 10027</td>\n",
       "      <td>10027</td>\n",
       "    </tr>\n",
       "    <tr>\n",
       "      <th>1</th>\n",
       "      <td>2</td>\n",
       "      <td>Dovetail</td>\n",
       "      <td>103 W 77th St</td>\n",
       "      <td>New York</td>\n",
       "      <td>NY</td>\n",
       "      <td>John Fraser's UWS fine dining restaurant has O...</td>\n",
       "      <td>1</td>\n",
       "      <td>103 W 77th St, New York, NY 10024</td>\n",
       "      <td>10024</td>\n",
       "    </tr>\n",
       "    <tr>\n",
       "      <th>2</th>\n",
       "      <td>3</td>\n",
       "      <td>Cafe Boulud</td>\n",
       "      <td>20 E 76th St</td>\n",
       "      <td>New York</td>\n",
       "      <td>NY</td>\n",
       "      <td>Daniel Boulud's beloved Upper East Side restau...</td>\n",
       "      <td>1</td>\n",
       "      <td>20 E 76th St, New York, NY 10021</td>\n",
       "      <td>10021</td>\n",
       "    </tr>\n",
       "    <tr>\n",
       "      <th>3</th>\n",
       "      <td>4</td>\n",
       "      <td>Jean-Georges</td>\n",
       "      <td>1 Central Park West</td>\n",
       "      <td>New York</td>\n",
       "      <td>NY</td>\n",
       "      <td>Jean-Georges Vongerichten's flagship restauran...</td>\n",
       "      <td>2</td>\n",
       "      <td>1 Central Park West, New York, NY 10023</td>\n",
       "      <td>10023</td>\n",
       "    </tr>\n",
       "    <tr>\n",
       "      <th>4</th>\n",
       "      <td>5</td>\n",
       "      <td>Masa</td>\n",
       "      <td>10 Columbus Cir</td>\n",
       "      <td>New York</td>\n",
       "      <td>NY</td>\n",
       "      <td>Masa Takayama's pricey sushi restaurant has TH...</td>\n",
       "      <td>3</td>\n",
       "      <td>10 Columbus Cir, New York, NY 10019</td>\n",
       "      <td>10019</td>\n",
       "    </tr>\n",
       "  </tbody>\n",
       "</table>\n",
       "</div>"
      ],
      "text/plain": [
       "   Unnamed: 0           name              address       city state  \\\n",
       "0           1    Sushi Inoue        381 Lenox Ave   New York    NY   \n",
       "1           2       Dovetail        103 W 77th St   New York    NY   \n",
       "2           3    Cafe Boulud         20 E 76th St   New York    NY   \n",
       "3           4   Jean-Georges  1 Central Park West   New York    NY   \n",
       "4           5           Masa      10 Columbus Cir   New York    NY   \n",
       "\n",
       "                                         description  star  \\\n",
       "0   ONE STAR for this Japanese restaurant in Harlem.     1   \n",
       "1  John Fraser's UWS fine dining restaurant has O...     1   \n",
       "2  Daniel Boulud's beloved Upper East Side restau...     1   \n",
       "3  Jean-Georges Vongerichten's flagship restauran...     2   \n",
       "4  Masa Takayama's pricey sushi restaurant has TH...     3   \n",
       "\n",
       "                              full_address  postal_code  \n",
       "0        381 Lenox Ave, New York, NY 10027        10027  \n",
       "1        103 W 77th St, New York, NY 10024        10024  \n",
       "2         20 E 76th St, New York, NY 10021        10021  \n",
       "3  1 Central Park West, New York, NY 10023        10023  \n",
       "4      10 Columbus Cir, New York, NY 10019        10019  "
      ]
     },
     "execution_count": 4,
     "metadata": {},
     "output_type": "execute_result"
    }
   ],
   "source": [
    "fine_dine_df = pd.read_csv(\"mich_rests.csv\")\n",
    "income_zip_df = pd.read_csv(\"zips_with_income.csv\")\n",
    "fine_dine_df.head()"
   ]
  },
  {
   "cell_type": "code",
   "execution_count": 5,
   "metadata": {},
   "outputs": [
    {
     "data": {
      "text/html": [
       "<div>\n",
       "<style scoped>\n",
       "    .dataframe tbody tr th:only-of-type {\n",
       "        vertical-align: middle;\n",
       "    }\n",
       "\n",
       "    .dataframe tbody tr th {\n",
       "        vertical-align: top;\n",
       "    }\n",
       "\n",
       "    .dataframe thead th {\n",
       "        text-align: right;\n",
       "    }\n",
       "</style>\n",
       "<table border=\"1\" class=\"dataframe\">\n",
       "  <thead>\n",
       "    <tr style=\"text-align: right;\">\n",
       "      <th></th>\n",
       "      <th>NYC_Zip_Codes</th>\n",
       "      <th>Michelin Counts</th>\n",
       "    </tr>\n",
       "  </thead>\n",
       "  <tbody>\n",
       "    <tr>\n",
       "      <th>0</th>\n",
       "      <td>10001</td>\n",
       "      <td>2</td>\n",
       "    </tr>\n",
       "    <tr>\n",
       "      <th>1</th>\n",
       "      <td>10002</td>\n",
       "      <td>2</td>\n",
       "    </tr>\n",
       "    <tr>\n",
       "      <th>2</th>\n",
       "      <td>10003</td>\n",
       "      <td>7</td>\n",
       "    </tr>\n",
       "    <tr>\n",
       "      <th>3</th>\n",
       "      <td>10009</td>\n",
       "      <td>1</td>\n",
       "    </tr>\n",
       "    <tr>\n",
       "      <th>4</th>\n",
       "      <td>10010</td>\n",
       "      <td>4</td>\n",
       "    </tr>\n",
       "  </tbody>\n",
       "</table>\n",
       "</div>"
      ],
      "text/plain": [
       "   NYC_Zip_Codes  Michelin Counts\n",
       "0          10001                2\n",
       "1          10002                2\n",
       "2          10003                7\n",
       "3          10009                1\n",
       "4          10010                4"
      ]
     },
     "execution_count": 5,
     "metadata": {},
     "output_type": "execute_result"
    }
   ],
   "source": [
    "postal_group = fine_dine_df.groupby('postal_code')\n",
    "\n",
    "count_postal = postal_group['postal_code'].count()\n",
    "\n",
    "count_restaurants_df = count_postal.rename_axis('NYC_Zip_Codes').reset_index(name='Michelin Counts')\n",
    "count_restaurants_df.head()\n",
    "\n"
   ]
  },
  {
   "cell_type": "code",
   "execution_count": 6,
   "metadata": {},
   "outputs": [
    {
     "data": {
      "text/html": [
       "<div>\n",
       "<style scoped>\n",
       "    .dataframe tbody tr th:only-of-type {\n",
       "        vertical-align: middle;\n",
       "    }\n",
       "\n",
       "    .dataframe tbody tr th {\n",
       "        vertical-align: top;\n",
       "    }\n",
       "\n",
       "    .dataframe thead th {\n",
       "        text-align: right;\n",
       "    }\n",
       "</style>\n",
       "<table border=\"1\" class=\"dataframe\">\n",
       "  <thead>\n",
       "    <tr style=\"text-align: right;\">\n",
       "      <th></th>\n",
       "      <th>NYC_Zip_Codes</th>\n",
       "      <th>Avg Income ($)</th>\n",
       "      <th>Michelin Counts</th>\n",
       "    </tr>\n",
       "  </thead>\n",
       "  <tbody>\n",
       "    <tr>\n",
       "      <th>0</th>\n",
       "      <td>10001</td>\n",
       "      <td>161227.0</td>\n",
       "      <td>2.0</td>\n",
       "    </tr>\n",
       "    <tr>\n",
       "      <th>1</th>\n",
       "      <td>10002</td>\n",
       "      <td>65718.0</td>\n",
       "      <td>2.0</td>\n",
       "    </tr>\n",
       "    <tr>\n",
       "      <th>2</th>\n",
       "      <td>10003</td>\n",
       "      <td>182531.0</td>\n",
       "      <td>7.0</td>\n",
       "    </tr>\n",
       "    <tr>\n",
       "      <th>3</th>\n",
       "      <td>10004</td>\n",
       "      <td>191760.0</td>\n",
       "      <td>0.0</td>\n",
       "    </tr>\n",
       "    <tr>\n",
       "      <th>4</th>\n",
       "      <td>10005</td>\n",
       "      <td>201734.0</td>\n",
       "      <td>0.0</td>\n",
       "    </tr>\n",
       "  </tbody>\n",
       "</table>\n",
       "</div>"
      ],
      "text/plain": [
       "   NYC_Zip_Codes  Avg Income ($)  Michelin Counts\n",
       "0          10001        161227.0              2.0\n",
       "1          10002         65718.0              2.0\n",
       "2          10003        182531.0              7.0\n",
       "3          10004        191760.0              0.0\n",
       "4          10005        201734.0              0.0"
      ]
     },
     "execution_count": 6,
     "metadata": {},
     "output_type": "execute_result"
    }
   ],
   "source": [
    "# Merge two dataframes using an inner join\n",
    "merge_table = pd.merge(income_zip_df, count_restaurants_df, on=\"NYC_Zip_Codes\",how = \"left\")\n",
    "merge_table.fillna(0)\n",
    "\n",
    "\n",
    "merge_table = merge_table.fillna(0)\n",
    "\n",
    "merge_table.head()\n"
   ]
  },
  {
   "cell_type": "code",
   "execution_count": 7,
   "metadata": {},
   "outputs": [],
   "source": [
    "#merge_table.iloc[4,0]"
   ]
  },
  {
   "cell_type": "code",
   "execution_count": 11,
   "metadata": {
    "scrolled": false
   },
   "outputs": [
    {
     "data": {
      "image/png": "[encoded data removed]",
      "text/plain": [
       "<Figure size 1440x720 with 1 Axes>"
      ]
     },
     "metadata": {
      "needs_background": "light"
     },
     "output_type": "display_data"
    }
   ],
   "source": [
    "income = merge_table['Avg Income ($)']\n",
    "rest_count = merge_table['Michelin Counts']\n",
    "plt.figure(figsize=(20,10))\n",
    "plt.plot(income, rest_count, 'o', color= '#666666', alpha=.5, label='zip codes', markersize=10)\n",
    "#plt.plot(income, intercept + slope*(rest_count), color='#00CC99', label='fitted line')\n",
    "plt.legend()\n",
    "\n",
    "plt.ylim(-1, 9)\n",
    "plt.xlim(25000, 300000)\n",
    "\n",
    "# Create a title, x label, and y label for our chart\n",
    "plt.title(\"Avg Income Vs Michelin Restaurants' Num\",fontsize= 16,fontweight = \"bold\")\n",
    "plt.xlabel(\"Average Income($) in the zip code\",fontsize= 15)\n",
    "plt.ylabel(\"Number of Michelin Restaurants\", fontsize = 15)\n",
    "\n",
    "\n",
    "plt.savefig(\"../JoeImages/Income_V_Finerestaurants.png\")\n",
    "plt.show()\n",
    "\n",
    "\n",
    "\n"
   ]
  },
  {
   "cell_type": "code",
   "execution_count": 23,
   "metadata": {
    "scrolled": true
   },
   "outputs": [
    {
     "data": {
      "image/png": "[encoded data removed]",
      "text/plain": [
       "<Figure size 432x432 with 3 Axes>"
      ]
     },
     "metadata": {
      "needs_background": "light"
     },
     "output_type": "display_data"
    }
   ],
   "source": [
    "sns.jointplot(income, rest_count,kind = \"reg\", color=\"seagreen\")\n",
    "plt.savefig(\"../JoeImages/Income_V_Finerestaurants_regression.png\")\n",
    "plt.show()"
   ]
  },
  {
   "cell_type": "code",
   "execution_count": 25,
   "metadata": {},
   "outputs": [
    {
     "name": "stdout",
     "output_type": "stream",
     "text": [
      "6.414743634739686e-08\n"
     ]
    },
    {
     "data": {
      "image/png": "[encoded data removed]",
      "text/plain": [
       "<Figure size 1440x720 with 1 Axes>"
      ]
     },
     "metadata": {
      "needs_background": "light"
     },
     "output_type": "display_data"
    }
   ],
   "source": [
    "merge_table.boxplot(\"Avg Income ($)\", by=\"Michelin Counts\", figsize=(20, 10))\n",
    "plt.savefig(\"../JoeImages/Income_V_Finerestaurants_box.png\")\n",
    "# calculate P value\n",
    "slope, intercept, r_value, p_value, std_err = stats.linregress(income, rest_count)\n",
    "print(p_value)"
   ]
  },
  {
   "cell_type": "code",
   "execution_count": null,
   "metadata": {},
   "outputs": [],
   "source": []
  }
 ],
 "metadata": {
  "kernelspec": {
   "display_name": "Python [conda env:PythonData=3.6] *",
   "language": "python",
   "name": "conda-env-PythonData_3.6-py"
  },
  "language_info": {
   "codemirror_mode": {
    "name": "ipython",
    "version": 3
   },
   "file_extension": ".py",
   "mimetype": "text/x-python",
   "name": "python",
   "nbconvert_exporter": "python",
   "pygments_lexer": "ipython3",
   "version": "3.7.3"
  }
 },
 "nbformat": 4,
 "nbformat_minor": 2
}
