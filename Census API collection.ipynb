{
 "cells": [
  {
   "cell_type": "code",
   "execution_count": 1,
   "metadata": {},
   "outputs": [],
   "source": [
    "# import dependencies\n",
    "import requests\n",
    "import json\n",
    "from pprint import pprint\n",
    "import pandas as pd\n",
    "import numpy as np\n",
    "import matplotlib.pyplot as plt\n",
    "\n",
    "# connect to API key\n",
    "from config import gkey\n"
   ]
  },
  {
   "cell_type": "code",
   "execution_count": 2,
   "metadata": {},
   "outputs": [
    {
     "name": "stdout",
     "output_type": "stream",
     "text": [
      "<Response [200]>\n"
     ]
    }
   ],
   "source": [
    "# establish base URL \n",
    "base_url = \"https://api.census.gov/data/2017/acs/acs5/profile\"\n",
    "\n",
    "# print the response object to the console\n",
    "response = requests.get(base_url)\n",
    "print(response)\n"
   ]
  },
  {
   "cell_type": "code",
   "execution_count": 3,
   "metadata": {},
   "outputs": [
    {
     "name": "stdout",
     "output_type": "stream",
     "text": [
      "https://api.census.gov/data/2017/acs/acs5/profile?get=DP03_0074PE,DP02_0011PE,DP03_0025E,DP04_0058PE,DP03_0063E,NAME&for=zip%20code%20tabulation%20area:*&key=391a26e50b873d297dfed1954142d1f1dee85f9e\n"
     ]
    }
   ],
   "source": [
    "# translate keys from Census API to variable for easier reading\n",
    "percent_hh_snap = \"DP03_0074PE\"\n",
    "percent_single_hh = \"DP02_0011PE\"\n",
    "avg_commute = \"DP03_0025E\"\n",
    "percent_no_vehicles = \"DP04_0058PE\"\n",
    "avg_income = \"DP03_0063E\"\n",
    "zip_code = \"zip%20code%20tabulation%20area:*\"\n",
    "\n",
    "# set variables for query URL\n",
    "key1 = percent_hh_snap\n",
    "key2 = percent_single_hh\n",
    "key3 = avg_commute\n",
    "key4 = percent_no_vehicles\n",
    "key5 = avg_income\n",
    "geography = zip_code \n",
    "\n",
    "# build query URL\n",
    "query_url = f\"{base_url}?get={key1},{key2},{key3},{key4},{key5},NAME&for={geography}&key={gkey}\"\n",
    "print(query_url)\n"
   ]
  },
  {
   "cell_type": "code",
   "execution_count": 6,
   "metadata": {},
   "outputs": [],
   "source": [
    "# convert to json\n",
    "response = requests.get(query_url).json()\n",
    "#pprint(response)\n"
   ]
  },
  {
   "cell_type": "code",
   "execution_count": 7,
   "metadata": {},
   "outputs": [
    {
     "data": {
      "text/html": [
       "<div>\n",
       "<style scoped>\n",
       "    .dataframe tbody tr th:only-of-type {\n",
       "        vertical-align: middle;\n",
       "    }\n",
       "\n",
       "    .dataframe tbody tr th {\n",
       "        vertical-align: top;\n",
       "    }\n",
       "\n",
       "    .dataframe thead th {\n",
       "        text-align: right;\n",
       "    }\n",
       "</style>\n",
       "<table border=\"1\" class=\"dataframe\">\n",
       "  <thead>\n",
       "    <tr style=\"text-align: right;\">\n",
       "      <th></th>\n",
       "      <th>Zip Code</th>\n",
       "      <th>Avg Income ($)</th>\n",
       "      <th>% SNAP HH</th>\n",
       "      <th>% Single HH</th>\n",
       "      <th>% No Cars</th>\n",
       "      <th>Avg Commute (min)</th>\n",
       "    </tr>\n",
       "  </thead>\n",
       "  <tbody>\n",
       "    <tr>\n",
       "      <th>1</th>\n",
       "      <td>01379</td>\n",
       "      <td>66682</td>\n",
       "      <td>22.4</td>\n",
       "      <td>30.7</td>\n",
       "      <td>5.2</td>\n",
       "      <td>32.2</td>\n",
       "    </tr>\n",
       "    <tr>\n",
       "      <th>2</th>\n",
       "      <td>01440</td>\n",
       "      <td>62384</td>\n",
       "      <td>21.1</td>\n",
       "      <td>29.8</td>\n",
       "      <td>11.1</td>\n",
       "      <td>26.8</td>\n",
       "    </tr>\n",
       "    <tr>\n",
       "      <th>3</th>\n",
       "      <td>01505</td>\n",
       "      <td>119858</td>\n",
       "      <td>1.8</td>\n",
       "      <td>23.2</td>\n",
       "      <td>2.5</td>\n",
       "      <td>29.0</td>\n",
       "    </tr>\n",
       "    <tr>\n",
       "      <th>4</th>\n",
       "      <td>01524</td>\n",
       "      <td>86771</td>\n",
       "      <td>6.9</td>\n",
       "      <td>28.4</td>\n",
       "      <td>3.9</td>\n",
       "      <td>31.1</td>\n",
       "    </tr>\n",
       "    <tr>\n",
       "      <th>5</th>\n",
       "      <td>01529</td>\n",
       "      <td>104300</td>\n",
       "      <td>7.5</td>\n",
       "      <td>17.9</td>\n",
       "      <td>3.5</td>\n",
       "      <td>31.7</td>\n",
       "    </tr>\n",
       "  </tbody>\n",
       "</table>\n",
       "</div>"
      ],
      "text/plain": [
       "  Zip Code Avg Income ($) % SNAP HH % Single HH % No Cars Avg Commute (min)\n",
       "1    01379          66682      22.4        30.7       5.2              32.2\n",
       "2    01440          62384      21.1        29.8      11.1              26.8\n",
       "3    01505         119858       1.8        23.2       2.5              29.0\n",
       "4    01524          86771       6.9        28.4       3.9              31.1\n",
       "5    01529         104300       7.5        17.9       3.5              31.7"
      ]
     },
     "execution_count": 7,
     "metadata": {},
     "output_type": "execute_result"
    }
   ],
   "source": [
    "# create a dataframe \n",
    "df_raw = pd.DataFrame(response, columns=['% SNAP HH', '% Single HH','Avg Commute (min)','% No Cars', 'Avg Income ($)','ZCTA', 'Zip Code'])\n",
    "df_raw = df_raw[['Zip Code','Avg Income ($)','% SNAP HH','% Single HH','% No Cars','Avg Commute (min)']]\n",
    "df_raw = df_raw.drop([0], axis=0, inplace= False)\n",
    "\n",
    "#alt_gender_stats_df[\"Percentage of Players\"]= alt_gender_stats_df[\"Percentage of Players\"].astype(float).map(\"{:,.2f}%\".format)\n",
    "#df[\"Avg Income ($)\"]= df[\"Avg Income ($)\"].astype(float).map(\"${:,.0f}\".format)\n",
    "\n",
    "df_raw.head()\n"
   ]
  },
  {
   "cell_type": "code",
   "execution_count": 9,
   "metadata": {},
   "outputs": [
    {
     "data": {
      "text/plain": [
       "Zip Code             object\n",
       "Avg Income ($)       object\n",
       "% SNAP HH            object\n",
       "% Single HH          object\n",
       "% No Cars            object\n",
       "Avg Commute (min)    object\n",
       "dtype: object"
      ]
     },
     "execution_count": 9,
     "metadata": {},
     "output_type": "execute_result"
    }
   ],
   "source": [
    "# see what data types we have\n",
    "df_raw.dtypes\n"
   ]
  },
  {
   "cell_type": "code",
   "execution_count": 10,
   "metadata": {},
   "outputs": [
    {
     "data": {
      "text/plain": [
       "Zip Code              object\n",
       "Avg Income ($)       float64\n",
       "% SNAP HH            float64\n",
       "% Single HH          float64\n",
       "% No Cars            float64\n",
       "Avg Commute (min)    float64\n",
       "dtype: object"
      ]
     },
     "execution_count": 10,
     "metadata": {},
     "output_type": "execute_result"
    }
   ],
   "source": [
    "# convert data types where necessary to floats\n",
    "df_raw = df_raw.astype({\"Avg Income ($)\": float, \"% SNAP HH\": float, \"% Single HH\": float, \"% No Cars\": float, \"Avg Commute (min)\": float})\n",
    "df_raw.dtypes\n"
   ]
  },
  {
   "cell_type": "code",
   "execution_count": 23,
   "metadata": {},
   "outputs": [
    {
     "data": {
      "text/html": [
       "<div>\n",
       "<style scoped>\n",
       "    .dataframe tbody tr th:only-of-type {\n",
       "        vertical-align: middle;\n",
       "    }\n",
       "\n",
       "    .dataframe tbody tr th {\n",
       "        vertical-align: top;\n",
       "    }\n",
       "\n",
       "    .dataframe thead th {\n",
       "        text-align: right;\n",
       "    }\n",
       "</style>\n",
       "<table border=\"1\" class=\"dataframe\">\n",
       "  <thead>\n",
       "    <tr style=\"text-align: right;\">\n",
       "      <th></th>\n",
       "      <th>Zip Code</th>\n",
       "      <th>Avg Income ($)</th>\n",
       "      <th>% SNAP HH</th>\n",
       "      <th>% Single HH</th>\n",
       "      <th>% No Cars</th>\n",
       "      <th>Avg Commute (min)</th>\n",
       "    </tr>\n",
       "  </thead>\n",
       "  <tbody>\n",
       "    <tr>\n",
       "      <th>1</th>\n",
       "      <td>01379</td>\n",
       "      <td>66682.0</td>\n",
       "      <td>22.4</td>\n",
       "      <td>30.7</td>\n",
       "      <td>5.2</td>\n",
       "      <td>32.2</td>\n",
       "    </tr>\n",
       "    <tr>\n",
       "      <th>2</th>\n",
       "      <td>01440</td>\n",
       "      <td>62384.0</td>\n",
       "      <td>21.1</td>\n",
       "      <td>29.8</td>\n",
       "      <td>11.1</td>\n",
       "      <td>26.8</td>\n",
       "    </tr>\n",
       "    <tr>\n",
       "      <th>3</th>\n",
       "      <td>01505</td>\n",
       "      <td>119858.0</td>\n",
       "      <td>1.8</td>\n",
       "      <td>23.2</td>\n",
       "      <td>2.5</td>\n",
       "      <td>29.0</td>\n",
       "    </tr>\n",
       "    <tr>\n",
       "      <th>4</th>\n",
       "      <td>01524</td>\n",
       "      <td>86771.0</td>\n",
       "      <td>6.9</td>\n",
       "      <td>28.4</td>\n",
       "      <td>3.9</td>\n",
       "      <td>31.1</td>\n",
       "    </tr>\n",
       "    <tr>\n",
       "      <th>5</th>\n",
       "      <td>01529</td>\n",
       "      <td>104300.0</td>\n",
       "      <td>7.5</td>\n",
       "      <td>17.9</td>\n",
       "      <td>3.5</td>\n",
       "      <td>31.7</td>\n",
       "    </tr>\n",
       "  </tbody>\n",
       "</table>\n",
       "</div>"
      ],
      "text/plain": [
       "  Zip Code  Avg Income ($)  % SNAP HH  % Single HH  % No Cars  \\\n",
       "1    01379         66682.0       22.4         30.7        5.2   \n",
       "2    01440         62384.0       21.1         29.8       11.1   \n",
       "3    01505        119858.0        1.8         23.2        2.5   \n",
       "4    01524         86771.0        6.9         28.4        3.9   \n",
       "5    01529        104300.0        7.5         17.9        3.5   \n",
       "\n",
       "   Avg Commute (min)  \n",
       "1               32.2  \n",
       "2               26.8  \n",
       "3               29.0  \n",
       "4               31.1  \n",
       "5               31.7  "
      ]
     },
     "execution_count": 23,
     "metadata": {},
     "output_type": "execute_result"
    }
   ],
   "source": [
    "# remove any negative numbers\n",
    "\n",
    "df = df_raw[(df_raw[\"Avg Income ($)\"]>=0) & (df_raw[\"% SNAP HH\"]>=0) & (df_raw[\"% Single HH\"]>=0) & (df_raw[\"% No Cars\"]>=0) & (df_raw[\"Avg Commute (min)\"]>=0)]\n",
    "df.head()\n",
    "#print(len(df)) = 30440\n"
   ]
  },
  {
   "cell_type": "code",
   "execution_count": 24,
   "metadata": {
    "scrolled": true
   },
   "outputs": [
    {
     "name": "stdout",
     "output_type": "stream",
     "text": [
      "30440\n",
      "65430.0\n",
      "72782.25985545335\n",
      "------------------------------------\n",
      "Zip Code                      inf\n",
      "Avg Income ($)       7.278226e+04\n",
      "% SNAP HH            1.241990e+01\n",
      "% Single HH          2.678986e+01\n",
      "% No Cars            6.411570e+00\n",
      "Avg Commute (min)    2.617808e+01\n",
      "dtype: float64\n"
     ]
    }
   ],
   "source": [
    "# run some calculations to understand the data\n",
    "\n",
    "print(df[\"Avg Income ($)\"].count())\n",
    "print(df[\"Avg Income ($)\"].median())\n",
    "print(df[\"Avg Income ($)\"].mean())\n",
    "print(\"------------------------------------\")\n",
    "print(df.mean())"
   ]
  },
  {
   "cell_type": "code",
   "execution_count": 25,
   "metadata": {},
   "outputs": [
    {
     "name": "stdout",
     "output_type": "stream",
     "text": [
      "The highest average income of any US zip code is $598,492\n",
      "The lowest average income of any US zip code is $9,398\n"
     ]
    }
   ],
   "source": [
    "highest_mean_income = df[\"Avg Income ($)\"].max()\n",
    "lowest_mean_income = df[\"Avg Income ($)\"].min()\n",
    "\n",
    "print(f\"The highest average income of any US zip code is ${highest_mean_income:,.0f}\")\n",
    "print(f\"The lowest average income of any US zip code is ${lowest_mean_income:,.0f}\")\n",
    "\n",
    "#df.loc[df[\"Avg Income ($)\"] == 9398]\n",
    "#highest = 21056: Gibson Island, MD\n",
    "#lowest = 64147: Martin City, MO"
   ]
  },
  {
   "cell_type": "code",
   "execution_count": null,
   "metadata": {},
   "outputs": [],
   "source": []
  }
 ],
 "metadata": {
  "kernelspec": {
   "display_name": "Python [conda env:PythonData] *",
   "language": "python",
   "name": "conda-env-PythonData-py"
  },
  "language_info": {
   "codemirror_mode": {
    "name": "ipython",
    "version": 3
   },
   "file_extension": ".py",
   "mimetype": "text/x-python",
   "name": "python",
   "nbconvert_exporter": "python",
   "pygments_lexer": "ipython3",
   "version": "3.6.8"
  }
 },
 "nbformat": 4,
 "nbformat_minor": 2
}
